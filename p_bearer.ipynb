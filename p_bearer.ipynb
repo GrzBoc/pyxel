{
 "cells": [
  {
   "cell_type": "code",
   "execution_count": null,
   "id": "4c59981d",
   "metadata": {},
   "outputs": [],
   "source": [
    "# Set the URL for the OpenID Connect authentication endpoint\n",
    "auth_url = 'https://accounts.google.com/o/oauth2/v2/auth'\n",
    "\n",
    "# Set the parameters for the authentication request\n",
    "params = {\n",
    "    'response_type': 'code',\n",
    "    'client_id': 'your-client-id',\n",
    "    'redirect_uri': 'your-redirect-uri',\n",
    "    'scope': 'openid email profile',\n",
    "    'state': 'your-state-token'\n",
    "}\n",
    "\n",
    "# Make the authentication request and get the authorization code\n",
    "auth_response = requests.get(auth_url, params=params)\n",
    "auth_response.raise_for_status()\n",
    "auth_code = auth_response.url.split('=')[1]\n",
    "\n",
    "# Set the URL for the OpenID Connect token endpoint\n",
    "token_url = 'https://oauth2.googleapis.com/token'\n",
    "\n",
    "# Set the parameters for the token request\n",
    "params = {\n",
    "    'grant_type': 'authorization_code',\n",
    "    'code': auth_code,\n",
    "    'redirect_uri': 'your-redirect-uri',\n",
    "    'client_id': 'your-client-id',\n",
    "    'client_secret': 'your-client-secret'\n",
    "}\n",
    "\n",
    "# Make the token request and get the access token\n",
    "token_response = requests.post(token_url, data=params)\n",
    "token_response.raise_for_status()\n",
    "access_token = json.loads(token_response.text)['access_token']\n",
    "\n",
    "# Use the access token as a bearer token in your HTTP requests to the API\n",
    "url = 'https://your-api-url.com/your-endpoint'\n",
    "headers = {\n",
    "    'Authorization': 'Bearer ' + access_token\n",
    "}\n",
    "response = requests.get(url, headers=headers)\n",
    "\n"
   ]
  },
  {
   "cell_type": "code",
   "execution_count": null,
   "id": "a39bf59c",
   "metadata": {},
   "outputs": [],
   "source": [
    "# Process the response as needed\n",
    "\n",
    "######################———————–€€&&&&&&&&&&&&&\n",
    "\n",
    "import requests\n",
    "\n",
    "# Set the URL for the request\n",
    "url = \"https://your-url.com/api/your-endpoint\"\n",
    "\n",
    "# Set the authorization header with the bearer token\n",
    "headers = {\n",
    "    \"Authorization\": \"Bearer your-bearer-token\"\n",
    "}\n",
    "\n",
    "# Set the payload data\n",
    "payload = {\n",
    "    \"key1\": \"value1\",\n",
    "    \"key2\": \"value2\"\n",
    "}\n",
    "\n",
    "# Make the POST request with the headers and payload\n",
    "response = requests.post(url, headers=headers, data=payload)\n",
    "\n",
    "# Check the response status code\n",
    "if response.status_code == 200:\n",
    "    # Process the response data\n",
    "    data = response.json()\n",
    "    print(data)\n",
    "else:\n",
    "    print(\"Error:\", response.status_code)"
   ]
  }
 ],
 "metadata": {
  "hide_input": false,
  "kernelspec": {
   "display_name": "Python 3 (ipykernel)",
   "language": "python",
   "name": "python3"
  },
  "language_info": {
   "codemirror_mode": {
    "name": "ipython",
    "version": 3
   },
   "file_extension": ".py",
   "mimetype": "text/x-python",
   "name": "python",
   "nbconvert_exporter": "python",
   "pygments_lexer": "ipython3",
   "version": "3.9.4"
  },
  "toc": {
   "base_numbering": 1,
   "nav_menu": {},
   "number_sections": true,
   "sideBar": false,
   "skip_h1_title": false,
   "title_cell": "Table of Contents",
   "title_sidebar": "Contents",
   "toc_cell": false,
   "toc_position": {},
   "toc_section_display": true,
   "toc_window_display": false
  },
  "varInspector": {
   "cols": {
    "lenName": 16,
    "lenType": 16,
    "lenVar": 40
   },
   "kernels_config": {
    "python": {
     "delete_cmd_postfix": "",
     "delete_cmd_prefix": "del ",
     "library": "var_list.py",
     "varRefreshCmd": "print(var_dic_list())"
    },
    "r": {
     "delete_cmd_postfix": ") ",
     "delete_cmd_prefix": "rm(",
     "library": "var_list.r",
     "varRefreshCmd": "cat(var_dic_list()) "
    }
   },
   "types_to_exclude": [
    "module",
    "function",
    "builtin_function_or_method",
    "instance",
    "_Feature"
   ],
   "window_display": false
  }
 },
 "nbformat": 4,
 "nbformat_minor": 5
}
