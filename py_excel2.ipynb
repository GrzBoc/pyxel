{
 "cells": [
  {
   "cell_type": "markdown",
   "id": "4725639c",
   "metadata": {},
   "source": [
    "## libs"
   ]
  },
  {
   "cell_type": "code",
   "execution_count": 152,
   "id": "41779621",
   "metadata": {
    "ExecuteTime": {
     "end_time": "2023-04-09T16:31:21.044965Z",
     "start_time": "2023-04-09T16:31:21.031064Z"
    }
   },
   "outputs": [],
   "source": [
    "\n",
    "import os\n",
    "import pandas as pd\n",
    "import numpy as np\n",
    "from datetime import datetime\n",
    "from pathlib import Path\n",
    "import xlwings as xw #probelmy z pisaniem po excelu i api, ale do otwierania ok\n",
    "import xlsxwriter as xls #tworzy nowe excele z logiką/ nie nadpisuje istniejących\n",
    "# import openpyxl as ox #słaba funkcjonalność, ale pracuje na istniejących excelach\n",
    "# from openpyxl.worksheet.table import Table, TableStyleInfo\n",
    "import sqlite3 as sql\n",
    "\n",
    "#from openpyxl import Workbook"
   ]
  },
  {
   "cell_type": "markdown",
   "id": "0331e683",
   "metadata": {},
   "source": [
    "## database - get data"
   ]
  },
  {
   "cell_type": "code",
   "execution_count": 2,
   "id": "cf5f106b",
   "metadata": {
    "ExecuteTime": {
     "end_time": "2023-04-09T08:03:58.381529Z",
     "start_time": "2023-04-09T08:03:58.369687Z"
    }
   },
   "outputs": [],
   "source": [
    "db_path=\"D:/04_edu/04. Data/SQL_sample_database/\"\n",
    "db_file=\"northwind.db\""
   ]
  },
  {
   "cell_type": "code",
   "execution_count": 3,
   "id": "fafd8987",
   "metadata": {
    "ExecuteTime": {
     "end_time": "2023-04-09T08:03:59.203390Z",
     "start_time": "2023-04-09T08:03:59.189448Z"
    }
   },
   "outputs": [
    {
     "data": {
      "text/plain": [
       "'D:/04_edu/04. Data/SQL_sample_database/northwind.db'"
      ]
     },
     "execution_count": 3,
     "metadata": {},
     "output_type": "execute_result"
    }
   ],
   "source": [
    "db_path+db_file"
   ]
  },
  {
   "cell_type": "code",
   "execution_count": 183,
   "id": "f38a9982",
   "metadata": {
    "ExecuteTime": {
     "end_time": "2023-04-09T16:58:42.742817Z",
     "start_time": "2023-04-09T16:58:42.727004Z"
    }
   },
   "outputs": [],
   "source": [
    "qry_1=\"\"\"select  \n",
    "strftime('%Y.%m', OrderDate) okres\n",
    ",count(*) cnt\n",
    "from   Orders\n",
    "group by 1\n",
    "order by 1\"\"\"\n",
    "\n",
    "qry_2=\"\"\"select  \n",
    "strftime('%Y.%m', OrderDate) okres\n",
    ",cast(strftime('%Y', OrderDate) as int) rok\n",
    ",cast(strftime('%m', OrderDate) as int) okres\n",
    ",count(*) cnt\n",
    "from   Orders\n",
    "group by 1,2,3\n",
    "order by 1\"\"\"\n",
    "\n",
    "qry_3=\"\"\"select  \n",
    "strftime('%Y.%m', OrderDate) okres\n",
    ",cast(strftime('%Y', OrderDate) as int) rok\n",
    ",cast(strftime('%m', OrderDate) as int) miesiac\n",
    ",date(min(OrderDate)) minOrderDate\n",
    ",max(OrderDate) maxOrderDate\n",
    ",count(distinct a.OrderID) cnt_orders\n",
    ",sum(Quantity) products_units\n",
    ",ROUND(sum(Quantity*UnitPrice) ,2) value\n",
    "from   Orders a\n",
    "join [Order Details] b\n",
    "on a.OrderID=b.OrderID\n",
    "group by 1,2,3\n",
    "order by 1\"\"\"\n",
    "\n",
    "\n",
    "##\n",
    "#weather.to_sql('df_name', conn,index=False, if_exists='replace')\n",
    "\n",
    "#https://github.com/chineseballer06/Statistical-Analysis-of-Northwind-Database/blob/master/student.ipynb"
   ]
  },
  {
   "cell_type": "code",
   "execution_count": 184,
   "id": "a644a51d",
   "metadata": {
    "ExecuteTime": {
     "end_time": "2023-04-09T16:58:43.942466Z",
     "start_time": "2023-04-09T16:58:43.921424Z"
    },
    "scrolled": false
   },
   "outputs": [
    {
     "data": {
      "text/html": [
       "<div>\n",
       "<style scoped>\n",
       "    .dataframe tbody tr th:only-of-type {\n",
       "        vertical-align: middle;\n",
       "    }\n",
       "\n",
       "    .dataframe tbody tr th {\n",
       "        vertical-align: top;\n",
       "    }\n",
       "\n",
       "    .dataframe thead th {\n",
       "        text-align: right;\n",
       "    }\n",
       "</style>\n",
       "<table border=\"1\" class=\"dataframe\">\n",
       "  <thead>\n",
       "    <tr style=\"text-align: right;\">\n",
       "      <th></th>\n",
       "      <th>okres</th>\n",
       "      <th>rok</th>\n",
       "      <th>miesiac</th>\n",
       "      <th>minOrderDate</th>\n",
       "      <th>maxOrderDate</th>\n",
       "      <th>cnt_orders</th>\n",
       "      <th>products_units</th>\n",
       "      <th>value</th>\n",
       "    </tr>\n",
       "  </thead>\n",
       "  <tbody>\n",
       "    <tr>\n",
       "      <th>0</th>\n",
       "      <td>2016.07</td>\n",
       "      <td>2016</td>\n",
       "      <td>7</td>\n",
       "      <td>2016-07-04</td>\n",
       "      <td>2016-07-31</td>\n",
       "      <td>22</td>\n",
       "      <td>1462</td>\n",
       "      <td>30192.10</td>\n",
       "    </tr>\n",
       "    <tr>\n",
       "      <th>1</th>\n",
       "      <td>2016.08</td>\n",
       "      <td>2016</td>\n",
       "      <td>8</td>\n",
       "      <td>2016-08-01</td>\n",
       "      <td>2016-08-30</td>\n",
       "      <td>25</td>\n",
       "      <td>1322</td>\n",
       "      <td>26609.40</td>\n",
       "    </tr>\n",
       "    <tr>\n",
       "      <th>2</th>\n",
       "      <td>2016.09</td>\n",
       "      <td>2016</td>\n",
       "      <td>9</td>\n",
       "      <td>2016-09-02</td>\n",
       "      <td>2016-09-30</td>\n",
       "      <td>23</td>\n",
       "      <td>1124</td>\n",
       "      <td>27636.00</td>\n",
       "    </tr>\n",
       "    <tr>\n",
       "      <th>3</th>\n",
       "      <td>2016.10</td>\n",
       "      <td>2016</td>\n",
       "      <td>10</td>\n",
       "      <td>2016-10-01</td>\n",
       "      <td>2016-10-31</td>\n",
       "      <td>26</td>\n",
       "      <td>1738</td>\n",
       "      <td>41203.60</td>\n",
       "    </tr>\n",
       "    <tr>\n",
       "      <th>4</th>\n",
       "      <td>2016.11</td>\n",
       "      <td>2016</td>\n",
       "      <td>11</td>\n",
       "      <td>2016-11-01</td>\n",
       "      <td>2016-11-29</td>\n",
       "      <td>25</td>\n",
       "      <td>1735</td>\n",
       "      <td>49704.00</td>\n",
       "    </tr>\n",
       "    <tr>\n",
       "      <th>5</th>\n",
       "      <td>2016.12</td>\n",
       "      <td>2016</td>\n",
       "      <td>12</td>\n",
       "      <td>2016-12-02</td>\n",
       "      <td>2016-12-31</td>\n",
       "      <td>31</td>\n",
       "      <td>2200</td>\n",
       "      <td>50953.40</td>\n",
       "    </tr>\n",
       "    <tr>\n",
       "      <th>6</th>\n",
       "      <td>2017.01</td>\n",
       "      <td>2017</td>\n",
       "      <td>1</td>\n",
       "      <td>2017-01-01</td>\n",
       "      <td>2017-01-31</td>\n",
       "      <td>33</td>\n",
       "      <td>2401</td>\n",
       "      <td>66692.80</td>\n",
       "    </tr>\n",
       "    <tr>\n",
       "      <th>7</th>\n",
       "      <td>2017.02</td>\n",
       "      <td>2017</td>\n",
       "      <td>2</td>\n",
       "      <td>2017-02-03</td>\n",
       "      <td>2017-02-28</td>\n",
       "      <td>29</td>\n",
       "      <td>2132</td>\n",
       "      <td>41207.20</td>\n",
       "    </tr>\n",
       "    <tr>\n",
       "      <th>8</th>\n",
       "      <td>2017.03</td>\n",
       "      <td>2017</td>\n",
       "      <td>3</td>\n",
       "      <td>2017-03-03</td>\n",
       "      <td>2017-03-31</td>\n",
       "      <td>30</td>\n",
       "      <td>1770</td>\n",
       "      <td>39979.90</td>\n",
       "    </tr>\n",
       "    <tr>\n",
       "      <th>9</th>\n",
       "      <td>2017.04</td>\n",
       "      <td>2017</td>\n",
       "      <td>4</td>\n",
       "      <td>2017-04-01</td>\n",
       "      <td>2017-04-30</td>\n",
       "      <td>31</td>\n",
       "      <td>1912</td>\n",
       "      <td>55699.39</td>\n",
       "    </tr>\n",
       "    <tr>\n",
       "      <th>10</th>\n",
       "      <td>2017.05</td>\n",
       "      <td>2017</td>\n",
       "      <td>5</td>\n",
       "      <td>2017-05-01</td>\n",
       "      <td>2017-05-30</td>\n",
       "      <td>32</td>\n",
       "      <td>2164</td>\n",
       "      <td>56823.70</td>\n",
       "    </tr>\n",
       "    <tr>\n",
       "      <th>11</th>\n",
       "      <td>2017.06</td>\n",
       "      <td>2017</td>\n",
       "      <td>6</td>\n",
       "      <td>2017-06-02</td>\n",
       "      <td>2017-06-30</td>\n",
       "      <td>30</td>\n",
       "      <td>1635</td>\n",
       "      <td>39088.00</td>\n",
       "    </tr>\n",
       "    <tr>\n",
       "      <th>12</th>\n",
       "      <td>2017.07</td>\n",
       "      <td>2017</td>\n",
       "      <td>7</td>\n",
       "      <td>2017-07-01</td>\n",
       "      <td>2017-07-31</td>\n",
       "      <td>33</td>\n",
       "      <td>2054</td>\n",
       "      <td>55464.93</td>\n",
       "    </tr>\n",
       "    <tr>\n",
       "      <th>13</th>\n",
       "      <td>2017.08</td>\n",
       "      <td>2017</td>\n",
       "      <td>8</td>\n",
       "      <td>2017-08-01</td>\n",
       "      <td>2017-08-29</td>\n",
       "      <td>33</td>\n",
       "      <td>1861</td>\n",
       "      <td>49981.69</td>\n",
       "    </tr>\n",
       "    <tr>\n",
       "      <th>14</th>\n",
       "      <td>2017.09</td>\n",
       "      <td>2017</td>\n",
       "      <td>9</td>\n",
       "      <td>2017-09-01</td>\n",
       "      <td>2017-09-30</td>\n",
       "      <td>37</td>\n",
       "      <td>2343</td>\n",
       "      <td>59733.02</td>\n",
       "    </tr>\n",
       "    <tr>\n",
       "      <th>15</th>\n",
       "      <td>2017.10</td>\n",
       "      <td>2017</td>\n",
       "      <td>10</td>\n",
       "      <td>2017-10-01</td>\n",
       "      <td>2017-10-31</td>\n",
       "      <td>38</td>\n",
       "      <td>2679</td>\n",
       "      <td>70328.50</td>\n",
       "    </tr>\n",
       "    <tr>\n",
       "      <th>16</th>\n",
       "      <td>2017.11</td>\n",
       "      <td>2017</td>\n",
       "      <td>11</td>\n",
       "      <td>2017-11-03</td>\n",
       "      <td>2017-11-28</td>\n",
       "      <td>34</td>\n",
       "      <td>1856</td>\n",
       "      <td>45913.36</td>\n",
       "    </tr>\n",
       "    <tr>\n",
       "      <th>17</th>\n",
       "      <td>2017.12</td>\n",
       "      <td>2017</td>\n",
       "      <td>12</td>\n",
       "      <td>2017-12-01</td>\n",
       "      <td>2017-12-31</td>\n",
       "      <td>48</td>\n",
       "      <td>2682</td>\n",
       "      <td>77476.26</td>\n",
       "    </tr>\n",
       "    <tr>\n",
       "      <th>18</th>\n",
       "      <td>2018.01</td>\n",
       "      <td>2018</td>\n",
       "      <td>1</td>\n",
       "      <td>2018-01-01</td>\n",
       "      <td>2018-01-30</td>\n",
       "      <td>55</td>\n",
       "      <td>3466</td>\n",
       "      <td>100854.72</td>\n",
       "    </tr>\n",
       "    <tr>\n",
       "      <th>19</th>\n",
       "      <td>2018.02</td>\n",
       "      <td>2018</td>\n",
       "      <td>2</td>\n",
       "      <td>2018-02-02</td>\n",
       "      <td>2018-02-27</td>\n",
       "      <td>54</td>\n",
       "      <td>3115</td>\n",
       "      <td>104561.95</td>\n",
       "    </tr>\n",
       "    <tr>\n",
       "      <th>20</th>\n",
       "      <td>2018.03</td>\n",
       "      <td>2018</td>\n",
       "      <td>3</td>\n",
       "      <td>2018-03-02</td>\n",
       "      <td>2018-03-31</td>\n",
       "      <td>73</td>\n",
       "      <td>4065</td>\n",
       "      <td>109825.45</td>\n",
       "    </tr>\n",
       "    <tr>\n",
       "      <th>21</th>\n",
       "      <td>2018.04</td>\n",
       "      <td>2018</td>\n",
       "      <td>4</td>\n",
       "      <td>2018-04-01</td>\n",
       "      <td>2018-04-30</td>\n",
       "      <td>74</td>\n",
       "      <td>4680</td>\n",
       "      <td>134630.56</td>\n",
       "    </tr>\n",
       "    <tr>\n",
       "      <th>22</th>\n",
       "      <td>2018.05</td>\n",
       "      <td>2018</td>\n",
       "      <td>5</td>\n",
       "      <td>2018-05-01</td>\n",
       "      <td>2018-05-06</td>\n",
       "      <td>14</td>\n",
       "      <td>921</td>\n",
       "      <td>19898.66</td>\n",
       "    </tr>\n",
       "  </tbody>\n",
       "</table>\n",
       "</div>"
      ],
      "text/plain": [
       "      okres   rok  miesiac minOrderDate maxOrderDate  cnt_orders  \\\n",
       "0   2016.07  2016        7   2016-07-04   2016-07-31          22   \n",
       "1   2016.08  2016        8   2016-08-01   2016-08-30          25   \n",
       "2   2016.09  2016        9   2016-09-02   2016-09-30          23   \n",
       "3   2016.10  2016       10   2016-10-01   2016-10-31          26   \n",
       "4   2016.11  2016       11   2016-11-01   2016-11-29          25   \n",
       "5   2016.12  2016       12   2016-12-02   2016-12-31          31   \n",
       "6   2017.01  2017        1   2017-01-01   2017-01-31          33   \n",
       "7   2017.02  2017        2   2017-02-03   2017-02-28          29   \n",
       "8   2017.03  2017        3   2017-03-03   2017-03-31          30   \n",
       "9   2017.04  2017        4   2017-04-01   2017-04-30          31   \n",
       "10  2017.05  2017        5   2017-05-01   2017-05-30          32   \n",
       "11  2017.06  2017        6   2017-06-02   2017-06-30          30   \n",
       "12  2017.07  2017        7   2017-07-01   2017-07-31          33   \n",
       "13  2017.08  2017        8   2017-08-01   2017-08-29          33   \n",
       "14  2017.09  2017        9   2017-09-01   2017-09-30          37   \n",
       "15  2017.10  2017       10   2017-10-01   2017-10-31          38   \n",
       "16  2017.11  2017       11   2017-11-03   2017-11-28          34   \n",
       "17  2017.12  2017       12   2017-12-01   2017-12-31          48   \n",
       "18  2018.01  2018        1   2018-01-01   2018-01-30          55   \n",
       "19  2018.02  2018        2   2018-02-02   2018-02-27          54   \n",
       "20  2018.03  2018        3   2018-03-02   2018-03-31          73   \n",
       "21  2018.04  2018        4   2018-04-01   2018-04-30          74   \n",
       "22  2018.05  2018        5   2018-05-01   2018-05-06          14   \n",
       "\n",
       "    products_units      value  \n",
       "0             1462   30192.10  \n",
       "1             1322   26609.40  \n",
       "2             1124   27636.00  \n",
       "3             1738   41203.60  \n",
       "4             1735   49704.00  \n",
       "5             2200   50953.40  \n",
       "6             2401   66692.80  \n",
       "7             2132   41207.20  \n",
       "8             1770   39979.90  \n",
       "9             1912   55699.39  \n",
       "10            2164   56823.70  \n",
       "11            1635   39088.00  \n",
       "12            2054   55464.93  \n",
       "13            1861   49981.69  \n",
       "14            2343   59733.02  \n",
       "15            2679   70328.50  \n",
       "16            1856   45913.36  \n",
       "17            2682   77476.26  \n",
       "18            3466  100854.72  \n",
       "19            3115  104561.95  \n",
       "20            4065  109825.45  \n",
       "21            4680  134630.56  \n",
       "22             921   19898.66  "
      ]
     },
     "execution_count": 184,
     "metadata": {},
     "output_type": "execute_result"
    }
   ],
   "source": [
    "conn = sql.connect(db_path+db_file)\n",
    "df = pd.read_sql(qry_3, conn)\n",
    "conn.close()\n",
    "df"
   ]
  },
  {
   "cell_type": "code",
   "execution_count": 185,
   "id": "8b4da1cf",
   "metadata": {
    "ExecuteTime": {
     "end_time": "2023-04-09T16:58:45.905326Z",
     "start_time": "2023-04-09T16:58:45.897013Z"
    }
   },
   "outputs": [
    {
     "data": {
      "text/plain": [
       "okres              object\n",
       "rok                 int64\n",
       "miesiac             int64\n",
       "minOrderDate       object\n",
       "maxOrderDate       object\n",
       "cnt_orders          int64\n",
       "products_units      int64\n",
       "value             float64\n",
       "dtype: object"
      ]
     },
     "execution_count": 185,
     "metadata": {},
     "output_type": "execute_result"
    }
   ],
   "source": [
    "df.infer_objects().dtypes"
   ]
  },
  {
   "cell_type": "code",
   "execution_count": 186,
   "id": "1156d080",
   "metadata": {
    "ExecuteTime": {
     "end_time": "2023-04-09T16:58:47.415696Z",
     "start_time": "2023-04-09T16:58:47.404366Z"
    }
   },
   "outputs": [],
   "source": [
    "df.minOrderDate=df.minOrderDate.astype('string')"
   ]
  },
  {
   "cell_type": "code",
   "execution_count": 187,
   "id": "1c9bded4",
   "metadata": {
    "ExecuteTime": {
     "end_time": "2023-04-09T16:58:48.899442Z",
     "start_time": "2023-04-09T16:58:48.877713Z"
    }
   },
   "outputs": [
    {
     "data": {
      "text/html": [
       "<div>\n",
       "<style scoped>\n",
       "    .dataframe tbody tr th:only-of-type {\n",
       "        vertical-align: middle;\n",
       "    }\n",
       "\n",
       "    .dataframe tbody tr th {\n",
       "        vertical-align: top;\n",
       "    }\n",
       "\n",
       "    .dataframe thead th {\n",
       "        text-align: right;\n",
       "    }\n",
       "</style>\n",
       "<table border=\"1\" class=\"dataframe\">\n",
       "  <thead>\n",
       "    <tr style=\"text-align: right;\">\n",
       "      <th></th>\n",
       "      <th>okres</th>\n",
       "      <th>rok</th>\n",
       "      <th>miesiac</th>\n",
       "      <th>minOrderDate</th>\n",
       "      <th>maxOrderDate</th>\n",
       "      <th>cnt_orders</th>\n",
       "      <th>products_units</th>\n",
       "      <th>value</th>\n",
       "    </tr>\n",
       "  </thead>\n",
       "  <tbody>\n",
       "    <tr>\n",
       "      <th>0</th>\n",
       "      <td>2016.07</td>\n",
       "      <td>2016</td>\n",
       "      <td>7</td>\n",
       "      <td>2016-07-04</td>\n",
       "      <td>2016-07-31</td>\n",
       "      <td>22</td>\n",
       "      <td>1462</td>\n",
       "      <td>30192.10</td>\n",
       "    </tr>\n",
       "    <tr>\n",
       "      <th>1</th>\n",
       "      <td>2016.08</td>\n",
       "      <td>2016</td>\n",
       "      <td>8</td>\n",
       "      <td>2016-08-01</td>\n",
       "      <td>2016-08-30</td>\n",
       "      <td>25</td>\n",
       "      <td>1322</td>\n",
       "      <td>26609.40</td>\n",
       "    </tr>\n",
       "    <tr>\n",
       "      <th>2</th>\n",
       "      <td>2016.09</td>\n",
       "      <td>2016</td>\n",
       "      <td>9</td>\n",
       "      <td>2016-09-02</td>\n",
       "      <td>2016-09-30</td>\n",
       "      <td>23</td>\n",
       "      <td>1124</td>\n",
       "      <td>27636.00</td>\n",
       "    </tr>\n",
       "    <tr>\n",
       "      <th>3</th>\n",
       "      <td>2016.10</td>\n",
       "      <td>2016</td>\n",
       "      <td>10</td>\n",
       "      <td>2016-10-01</td>\n",
       "      <td>2016-10-31</td>\n",
       "      <td>26</td>\n",
       "      <td>1738</td>\n",
       "      <td>41203.60</td>\n",
       "    </tr>\n",
       "    <tr>\n",
       "      <th>4</th>\n",
       "      <td>2016.11</td>\n",
       "      <td>2016</td>\n",
       "      <td>11</td>\n",
       "      <td>2016-11-01</td>\n",
       "      <td>2016-11-29</td>\n",
       "      <td>25</td>\n",
       "      <td>1735</td>\n",
       "      <td>49704.00</td>\n",
       "    </tr>\n",
       "    <tr>\n",
       "      <th>5</th>\n",
       "      <td>2016.12</td>\n",
       "      <td>2016</td>\n",
       "      <td>12</td>\n",
       "      <td>2016-12-02</td>\n",
       "      <td>2016-12-31</td>\n",
       "      <td>31</td>\n",
       "      <td>2200</td>\n",
       "      <td>50953.40</td>\n",
       "    </tr>\n",
       "    <tr>\n",
       "      <th>6</th>\n",
       "      <td>2017.01</td>\n",
       "      <td>2017</td>\n",
       "      <td>1</td>\n",
       "      <td>2017-01-01</td>\n",
       "      <td>2017-01-31</td>\n",
       "      <td>33</td>\n",
       "      <td>2401</td>\n",
       "      <td>66692.80</td>\n",
       "    </tr>\n",
       "    <tr>\n",
       "      <th>7</th>\n",
       "      <td>2017.02</td>\n",
       "      <td>2017</td>\n",
       "      <td>2</td>\n",
       "      <td>2017-02-03</td>\n",
       "      <td>2017-02-28</td>\n",
       "      <td>29</td>\n",
       "      <td>2132</td>\n",
       "      <td>41207.20</td>\n",
       "    </tr>\n",
       "    <tr>\n",
       "      <th>8</th>\n",
       "      <td>2017.03</td>\n",
       "      <td>2017</td>\n",
       "      <td>3</td>\n",
       "      <td>2017-03-03</td>\n",
       "      <td>2017-03-31</td>\n",
       "      <td>30</td>\n",
       "      <td>1770</td>\n",
       "      <td>39979.90</td>\n",
       "    </tr>\n",
       "    <tr>\n",
       "      <th>9</th>\n",
       "      <td>2017.04</td>\n",
       "      <td>2017</td>\n",
       "      <td>4</td>\n",
       "      <td>2017-04-01</td>\n",
       "      <td>2017-04-30</td>\n",
       "      <td>31</td>\n",
       "      <td>1912</td>\n",
       "      <td>55699.39</td>\n",
       "    </tr>\n",
       "    <tr>\n",
       "      <th>10</th>\n",
       "      <td>2017.05</td>\n",
       "      <td>2017</td>\n",
       "      <td>5</td>\n",
       "      <td>2017-05-01</td>\n",
       "      <td>2017-05-30</td>\n",
       "      <td>32</td>\n",
       "      <td>2164</td>\n",
       "      <td>56823.70</td>\n",
       "    </tr>\n",
       "    <tr>\n",
       "      <th>11</th>\n",
       "      <td>2017.06</td>\n",
       "      <td>2017</td>\n",
       "      <td>6</td>\n",
       "      <td>2017-06-02</td>\n",
       "      <td>2017-06-30</td>\n",
       "      <td>30</td>\n",
       "      <td>1635</td>\n",
       "      <td>39088.00</td>\n",
       "    </tr>\n",
       "    <tr>\n",
       "      <th>12</th>\n",
       "      <td>2017.07</td>\n",
       "      <td>2017</td>\n",
       "      <td>7</td>\n",
       "      <td>2017-07-01</td>\n",
       "      <td>2017-07-31</td>\n",
       "      <td>33</td>\n",
       "      <td>2054</td>\n",
       "      <td>55464.93</td>\n",
       "    </tr>\n",
       "    <tr>\n",
       "      <th>13</th>\n",
       "      <td>2017.08</td>\n",
       "      <td>2017</td>\n",
       "      <td>8</td>\n",
       "      <td>2017-08-01</td>\n",
       "      <td>2017-08-29</td>\n",
       "      <td>33</td>\n",
       "      <td>1861</td>\n",
       "      <td>49981.69</td>\n",
       "    </tr>\n",
       "    <tr>\n",
       "      <th>14</th>\n",
       "      <td>2017.09</td>\n",
       "      <td>2017</td>\n",
       "      <td>9</td>\n",
       "      <td>2017-09-01</td>\n",
       "      <td>2017-09-30</td>\n",
       "      <td>37</td>\n",
       "      <td>2343</td>\n",
       "      <td>59733.02</td>\n",
       "    </tr>\n",
       "    <tr>\n",
       "      <th>15</th>\n",
       "      <td>2017.10</td>\n",
       "      <td>2017</td>\n",
       "      <td>10</td>\n",
       "      <td>2017-10-01</td>\n",
       "      <td>2017-10-31</td>\n",
       "      <td>38</td>\n",
       "      <td>2679</td>\n",
       "      <td>70328.50</td>\n",
       "    </tr>\n",
       "    <tr>\n",
       "      <th>16</th>\n",
       "      <td>2017.11</td>\n",
       "      <td>2017</td>\n",
       "      <td>11</td>\n",
       "      <td>2017-11-03</td>\n",
       "      <td>2017-11-28</td>\n",
       "      <td>34</td>\n",
       "      <td>1856</td>\n",
       "      <td>45913.36</td>\n",
       "    </tr>\n",
       "    <tr>\n",
       "      <th>17</th>\n",
       "      <td>2017.12</td>\n",
       "      <td>2017</td>\n",
       "      <td>12</td>\n",
       "      <td>2017-12-01</td>\n",
       "      <td>2017-12-31</td>\n",
       "      <td>48</td>\n",
       "      <td>2682</td>\n",
       "      <td>77476.26</td>\n",
       "    </tr>\n",
       "    <tr>\n",
       "      <th>18</th>\n",
       "      <td>2018.01</td>\n",
       "      <td>2018</td>\n",
       "      <td>1</td>\n",
       "      <td>2018-01-01</td>\n",
       "      <td>2018-01-30</td>\n",
       "      <td>55</td>\n",
       "      <td>3466</td>\n",
       "      <td>100854.72</td>\n",
       "    </tr>\n",
       "    <tr>\n",
       "      <th>19</th>\n",
       "      <td>2018.02</td>\n",
       "      <td>2018</td>\n",
       "      <td>2</td>\n",
       "      <td>2018-02-02</td>\n",
       "      <td>2018-02-27</td>\n",
       "      <td>54</td>\n",
       "      <td>3115</td>\n",
       "      <td>104561.95</td>\n",
       "    </tr>\n",
       "    <tr>\n",
       "      <th>20</th>\n",
       "      <td>2018.03</td>\n",
       "      <td>2018</td>\n",
       "      <td>3</td>\n",
       "      <td>2018-03-02</td>\n",
       "      <td>2018-03-31</td>\n",
       "      <td>73</td>\n",
       "      <td>4065</td>\n",
       "      <td>109825.45</td>\n",
       "    </tr>\n",
       "    <tr>\n",
       "      <th>21</th>\n",
       "      <td>2018.04</td>\n",
       "      <td>2018</td>\n",
       "      <td>4</td>\n",
       "      <td>2018-04-01</td>\n",
       "      <td>2018-04-30</td>\n",
       "      <td>74</td>\n",
       "      <td>4680</td>\n",
       "      <td>134630.56</td>\n",
       "    </tr>\n",
       "    <tr>\n",
       "      <th>22</th>\n",
       "      <td>2018.05</td>\n",
       "      <td>2018</td>\n",
       "      <td>5</td>\n",
       "      <td>2018-05-01</td>\n",
       "      <td>2018-05-06</td>\n",
       "      <td>14</td>\n",
       "      <td>921</td>\n",
       "      <td>19898.66</td>\n",
       "    </tr>\n",
       "  </tbody>\n",
       "</table>\n",
       "</div>"
      ],
      "text/plain": [
       "      okres   rok  miesiac minOrderDate maxOrderDate  cnt_orders  \\\n",
       "0   2016.07  2016        7   2016-07-04   2016-07-31          22   \n",
       "1   2016.08  2016        8   2016-08-01   2016-08-30          25   \n",
       "2   2016.09  2016        9   2016-09-02   2016-09-30          23   \n",
       "3   2016.10  2016       10   2016-10-01   2016-10-31          26   \n",
       "4   2016.11  2016       11   2016-11-01   2016-11-29          25   \n",
       "5   2016.12  2016       12   2016-12-02   2016-12-31          31   \n",
       "6   2017.01  2017        1   2017-01-01   2017-01-31          33   \n",
       "7   2017.02  2017        2   2017-02-03   2017-02-28          29   \n",
       "8   2017.03  2017        3   2017-03-03   2017-03-31          30   \n",
       "9   2017.04  2017        4   2017-04-01   2017-04-30          31   \n",
       "10  2017.05  2017        5   2017-05-01   2017-05-30          32   \n",
       "11  2017.06  2017        6   2017-06-02   2017-06-30          30   \n",
       "12  2017.07  2017        7   2017-07-01   2017-07-31          33   \n",
       "13  2017.08  2017        8   2017-08-01   2017-08-29          33   \n",
       "14  2017.09  2017        9   2017-09-01   2017-09-30          37   \n",
       "15  2017.10  2017       10   2017-10-01   2017-10-31          38   \n",
       "16  2017.11  2017       11   2017-11-03   2017-11-28          34   \n",
       "17  2017.12  2017       12   2017-12-01   2017-12-31          48   \n",
       "18  2018.01  2018        1   2018-01-01   2018-01-30          55   \n",
       "19  2018.02  2018        2   2018-02-02   2018-02-27          54   \n",
       "20  2018.03  2018        3   2018-03-02   2018-03-31          73   \n",
       "21  2018.04  2018        4   2018-04-01   2018-04-30          74   \n",
       "22  2018.05  2018        5   2018-05-01   2018-05-06          14   \n",
       "\n",
       "    products_units      value  \n",
       "0             1462   30192.10  \n",
       "1             1322   26609.40  \n",
       "2             1124   27636.00  \n",
       "3             1738   41203.60  \n",
       "4             1735   49704.00  \n",
       "5             2200   50953.40  \n",
       "6             2401   66692.80  \n",
       "7             2132   41207.20  \n",
       "8             1770   39979.90  \n",
       "9             1912   55699.39  \n",
       "10            2164   56823.70  \n",
       "11            1635   39088.00  \n",
       "12            2054   55464.93  \n",
       "13            1861   49981.69  \n",
       "14            2343   59733.02  \n",
       "15            2679   70328.50  \n",
       "16            1856   45913.36  \n",
       "17            2682   77476.26  \n",
       "18            3466  100854.72  \n",
       "19            3115  104561.95  \n",
       "20            4065  109825.45  \n",
       "21            4680  134630.56  \n",
       "22             921   19898.66  "
      ]
     },
     "execution_count": 187,
     "metadata": {},
     "output_type": "execute_result"
    }
   ],
   "source": [
    "df"
   ]
  },
  {
   "cell_type": "code",
   "execution_count": 9,
   "id": "73bfef53",
   "metadata": {
    "ExecuteTime": {
     "end_time": "2023-04-09T08:04:08.246075Z",
     "start_time": "2023-04-09T08:04:08.233607Z"
    }
   },
   "outputs": [
    {
     "data": {
      "text/plain": [
       "{'int_curr_symbol': '',\n",
       " 'currency_symbol': '',\n",
       " 'mon_decimal_point': '',\n",
       " 'mon_thousands_sep': '',\n",
       " 'mon_grouping': [],\n",
       " 'positive_sign': '',\n",
       " 'negative_sign': '',\n",
       " 'int_frac_digits': 127,\n",
       " 'frac_digits': 127,\n",
       " 'p_cs_precedes': 127,\n",
       " 'p_sep_by_space': 127,\n",
       " 'n_cs_precedes': 127,\n",
       " 'n_sep_by_space': 127,\n",
       " 'p_sign_posn': 127,\n",
       " 'n_sign_posn': 127,\n",
       " 'decimal_point': '.',\n",
       " 'thousands_sep': '',\n",
       " 'grouping': []}"
      ]
     },
     "execution_count": 9,
     "metadata": {},
     "output_type": "execute_result"
    }
   ],
   "source": [
    "import locale\n",
    "locale.localeconv()#[\"decimal_point\"]\n"
   ]
  },
  {
   "cell_type": "code",
   "execution_count": 31,
   "id": "84d139ab",
   "metadata": {
    "ExecuteTime": {
     "end_time": "2023-04-09T09:29:23.430409Z",
     "start_time": "2023-04-09T09:29:23.414048Z"
    }
   },
   "outputs": [
    {
     "data": {
      "text/plain": [
       "'0.27.6'"
      ]
     },
     "execution_count": 31,
     "metadata": {},
     "output_type": "execute_result"
    }
   ],
   "source": [
    "xw.__version__"
   ]
  },
  {
   "cell_type": "markdown",
   "id": "aeb93a17",
   "metadata": {},
   "source": [
    "## Excel path"
   ]
  },
  {
   "cell_type": "code",
   "execution_count": 129,
   "id": "e9d1a3dd",
   "metadata": {
    "ExecuteTime": {
     "end_time": "2023-04-09T16:03:03.962261Z",
     "start_time": "2023-04-09T16:03:03.955715Z"
    }
   },
   "outputs": [],
   "source": [
    "dstr=datetime.now().strftime(\"%Y.%m.%d_%H.%M.%S\")\n",
    "#xls_path=Path(\"D:/04_edu/11_scoring/\")\n",
    "#xls_full_path=os.path.join(os.getcwd( ), xls_file)\n",
    "xls_path=Path(os.getcwd( ))\n",
    "xls_file=\"py_xls_\"+dstr+\".xlsx\"\n",
    "#xls_full_path=xls_path+xls_file\n",
    "xls_full_path = xls_path / xls_file\n"
   ]
  },
  {
   "cell_type": "code",
   "execution_count": 130,
   "id": "0800eb44",
   "metadata": {
    "ExecuteTime": {
     "end_time": "2023-04-09T16:03:09.145999Z",
     "start_time": "2023-04-09T16:03:09.132822Z"
    }
   },
   "outputs": [
    {
     "data": {
      "text/plain": [
       "WindowsPath('D:/04_edu/11_scoring/py_xls_2023.04.09_18.03.03.xlsx')"
      ]
     },
     "execution_count": 130,
     "metadata": {},
     "output_type": "execute_result"
    }
   ],
   "source": [
    "xls_full_path"
   ]
  },
  {
   "cell_type": "code",
   "execution_count": 134,
   "id": "f2a104c8",
   "metadata": {
    "ExecuteTime": {
     "end_time": "2023-04-09T16:03:51.611792Z",
     "start_time": "2023-04-09T16:03:51.594926Z"
    }
   },
   "outputs": [
    {
     "data": {
      "text/plain": [
       "True"
      ]
     },
     "execution_count": 134,
     "metadata": {},
     "output_type": "execute_result"
    }
   ],
   "source": [
    "os.path.isfile(xls_path /'py_excel_tes88.xlsx')"
   ]
  },
  {
   "cell_type": "markdown",
   "id": "a966e45d",
   "metadata": {},
   "source": [
    "## xlsxwriter"
   ]
  },
  {
   "cell_type": "markdown",
   "id": "9a4572d1",
   "metadata": {},
   "source": [
    "https://xlsxwriter.readthedocs.io/contents.html\n",
    "\n",
    "json to excel\n",
    "https://stackoverflow.com/questions/65299781/convert-json-to-excel-by-python\n",
    "\n",
    "https://xlsxwriter.readthedocs.io/example_pandas_table.html\n",
    "\n",
    "https://xlsxwriter.readthedocs.io/working_with_tables.html\n",
    "\n",
    "https://xlsxwriter.readthedocs.io/working_with_tables.html   kolumny jako formuła - definiowane w columns\n",
    "\n",
    "https://xlsxwriter.readthedocs.io/working_with_cell_notation.html#cell-notation\n",
    "\n",
    "\n",
    "\n",
    "nadpisywanie istniejącego arkusza openpyxl \n",
    "https://stackoverflow.com/questions/56148739/how-to-add-overwrite-a-sheet-of-an-already-existing-xlsx-file-without-changing-d"
   ]
  },
  {
   "cell_type": "markdown",
   "id": "bae4f05a",
   "metadata": {},
   "source": [
    "XLSWRITER zawsze tworzy nowy plik, nawet jak już istnieje to go nadpisze tworząc od zera"
   ]
  },
  {
   "cell_type": "code",
   "execution_count": 255,
   "id": "748b454f",
   "metadata": {
    "ExecuteTime": {
     "end_time": "2023-04-09T18:06:51.324645Z",
     "start_time": "2023-04-09T18:06:51.260074Z"
    }
   },
   "outputs": [
    {
     "data": {
      "text/plain": [
       "'True <- Czy istniał taki plik?'"
      ]
     },
     "metadata": {},
     "output_type": "display_data"
    },
    {
     "data": {
      "text/plain": [
       "'Rozmiar tabeli 2:[3, 2]'"
      ]
     },
     "metadata": {},
     "output_type": "display_data"
    },
    {
     "data": {
      "text/plain": [
       "14"
      ]
     },
     "metadata": {},
     "output_type": "display_data"
    },
    {
     "data": {
      "text/plain": [
       "23"
      ]
     },
     "metadata": {},
     "output_type": "display_data"
    },
    {
     "data": {
      "text/plain": [
       "None"
      ]
     },
     "metadata": {},
     "output_type": "display_data"
    },
    {
     "data": {
      "text/plain": [
       "[<xlsxwriter.worksheet.Worksheet at 0x275005874f0>,\n",
       " <xlsxwriter.worksheet.Worksheet at 0x275007e2fd0>]"
      ]
     },
     "metadata": {},
     "output_type": "display_data"
    }
   ],
   "source": [
    "xls_file='py_xlsx_v1.xlsx'\n",
    "display(str(os.path.isfile(xls_path /xls_file))+\" <- Czy istniał taki plik?\")\n",
    "\n",
    "wb = xls.Workbook(xls_path /xls_file)\n",
    "ws1=wb.add_worksheet('kalambur')\n",
    "ws2=wb.add_worksheet('skoczek')\n",
    "(max_row, max_col) = df.shape\n",
    "ws1.add_table(0,0,max_row, max_col - 1, {'name': 'SalesData',\n",
    "                                         'data': df.values,\n",
    "                                        'columns': [{'header': nazwa} for nazwa in df.columns],\n",
    "                                         'style': 'Table Style Light 8'\n",
    "                                        })\n",
    "\n",
    "df2 = pd.DataFrame({'Name': ['Alice', 'Bob', 'Charlie'], 'Age': [25, 30, 35], 'Salary': [50000, 60000, 70000]})\n",
    "c_shift=max_col+4\n",
    "(max_row, max_col) = df2.shape\n",
    "\n",
    "ws1.add_table(0,0+c_shift,max_row, c_shift+max_col - 1, {'name': 'inne_dane',\n",
    "                                         'data': df2.values,\n",
    "                                        'columns': [{'header': nazwa} for nazwa in df2.columns],\n",
    "                                         'style': 'Table Style Light 8'\n",
    "                                        })\n",
    "#rozmiar tabeli 2:\n",
    "t0=xls.utility.xl_cell_to_rowcol(ws1.tables[1].get('range').split(\":\")[0])\n",
    "t1=xls.utility.xl_cell_to_rowcol(ws1.tables[1].get('range').split(\":\")[1])\n",
    "rozmiar=tuple(np.subtract(t1, t0))\n",
    "\n",
    "\n",
    "r0=xls.utility.xl_range(t0[0]+1, t0[1]+1, t1[0], t0[1]+1)\n",
    "r1=xls.utility.xl_range(t0[0]+1, t0[1]+2, t1[0], t0[1]+2)\n",
    "\n",
    "chart1 = wb.add_chart({'type': 'column'})\n",
    "chart1.add_series({'name':'='+ws1.name+'!'+xls.utility.xl_rowcol_to_cell(t0[0], t0[1]+1),\n",
    "                  'values': '='+ws1.name+'!'+r0\n",
    "  \n",
    "                  })\n",
    "chart2 = wb.add_chart({'type': 'line'})\n",
    "chart2.add_series({'name':'='+ws1.name+'!'+xls.utility.xl_rowcol_to_cell(t0[0], t0[1]+2),\n",
    "                  'values': '='+ws1.name+'!'+r1,\n",
    "                  'y2_axis': 1\n",
    "                  })\n",
    "\n",
    "chart1.combine(chart2)\n",
    "\n",
    "chart1.set_title({  'name': 'Combine chart - secondary Y axis'})\n",
    "chart1.set_x_axis({ 'name': 'tytułu osi X'})\n",
    "chart1.set_y_axis({ 'name': 'oś 1: wiek'})\n",
    "\n",
    "# Note: the y2 properties are on the secondary chart.\n",
    "chart2.set_y2_axis({'name': 'oś 2: wynagrodzenie'})\n",
    "\n",
    "\n",
    "\n",
    "# Insert the chart into the worksheet.\n",
    "ws1.insert_chart('A7', chart1)\n",
    "\n",
    "\n",
    "display('Rozmiar tabeli 2:'+str(list(rozmiar)))\n",
    "display(ws1.dim_rowmax,display(ws1.dim_colmax))\n",
    "ws1.autofit()\n",
    "display(wb.worksheets())\n",
    "wb.close()\n"
   ]
  },
  {
   "cell_type": "code",
   "execution_count": 287,
   "id": "f7d26220",
   "metadata": {
    "ExecuteTime": {
     "end_time": "2023-04-09T19:14:33.507449Z",
     "start_time": "2023-04-09T19:14:33.480520Z"
    }
   },
   "outputs": [
    {
     "ename": "AttributeError",
     "evalue": "'dict' object has no attribute 'data'",
     "output_type": "error",
     "traceback": [
      "\u001b[1;31m---------------------------------------------------------------------------\u001b[0m",
      "\u001b[1;31mAttributeError\u001b[0m                            Traceback (most recent call last)",
      "Input \u001b[1;32mIn [287]\u001b[0m, in \u001b[0;36m<cell line: 1>\u001b[1;34m()\u001b[0m\n\u001b[1;32m----> 1\u001b[0m ws1\u001b[38;5;241m.\u001b[39mtables[\u001b[38;5;241m1\u001b[39m]\u001b[38;5;241m.\u001b[39mdata\n",
      "\u001b[1;31mAttributeError\u001b[0m: 'dict' object has no attribute 'data'"
     ]
    }
   ],
   "source": [
    "ws1.tables[1]"
   ]
  },
  {
   "cell_type": "code",
   "execution_count": 243,
   "id": "03445841",
   "metadata": {
    "ExecuteTime": {
     "end_time": "2023-04-09T17:40:20.299502Z",
     "start_time": "2023-04-09T17:40:20.270806Z"
    },
    "collapsed": true
   },
   "outputs": [
    {
     "name": "stdout",
     "output_type": "stream",
     "text": [
      "Help on int object:\n",
      "\n",
      "class int(object)\n",
      " |  int([x]) -> integer\n",
      " |  int(x, base=10) -> integer\n",
      " |  \n",
      " |  Convert a number or string to an integer, or return 0 if no arguments\n",
      " |  are given.  If x is a number, return x.__int__().  For floating point\n",
      " |  numbers, this truncates towards zero.\n",
      " |  \n",
      " |  If x is not a number or if base is given, then x must be a string,\n",
      " |  bytes, or bytearray instance representing an integer literal in the\n",
      " |  given base.  The literal can be preceded by '+' or '-' and be surrounded\n",
      " |  by whitespace.  The base defaults to 10.  Valid bases are 0 and 2-36.\n",
      " |  Base 0 means to interpret the base from the string as an integer literal.\n",
      " |  >>> int('0b100', base=0)\n",
      " |  4\n",
      " |  \n",
      " |  Built-in subclasses:\n",
      " |      bool\n",
      " |  \n",
      " |  Methods defined here:\n",
      " |  \n",
      " |  __abs__(self, /)\n",
      " |      abs(self)\n",
      " |  \n",
      " |  __add__(self, value, /)\n",
      " |      Return self+value.\n",
      " |  \n",
      " |  __and__(self, value, /)\n",
      " |      Return self&value.\n",
      " |  \n",
      " |  __bool__(self, /)\n",
      " |      self != 0\n",
      " |  \n",
      " |  __ceil__(...)\n",
      " |      Ceiling of an Integral returns itself.\n",
      " |  \n",
      " |  __divmod__(self, value, /)\n",
      " |      Return divmod(self, value).\n",
      " |  \n",
      " |  __eq__(self, value, /)\n",
      " |      Return self==value.\n",
      " |  \n",
      " |  __float__(self, /)\n",
      " |      float(self)\n",
      " |  \n",
      " |  __floor__(...)\n",
      " |      Flooring an Integral returns itself.\n",
      " |  \n",
      " |  __floordiv__(self, value, /)\n",
      " |      Return self//value.\n",
      " |  \n",
      " |  __format__(self, format_spec, /)\n",
      " |      Default object formatter.\n",
      " |  \n",
      " |  __ge__(self, value, /)\n",
      " |      Return self>=value.\n",
      " |  \n",
      " |  __getattribute__(self, name, /)\n",
      " |      Return getattr(self, name).\n",
      " |  \n",
      " |  __getnewargs__(self, /)\n",
      " |  \n",
      " |  __gt__(self, value, /)\n",
      " |      Return self>value.\n",
      " |  \n",
      " |  __hash__(self, /)\n",
      " |      Return hash(self).\n",
      " |  \n",
      " |  __index__(self, /)\n",
      " |      Return self converted to an integer, if self is suitable for use as an index into a list.\n",
      " |  \n",
      " |  __int__(self, /)\n",
      " |      int(self)\n",
      " |  \n",
      " |  __invert__(self, /)\n",
      " |      ~self\n",
      " |  \n",
      " |  __le__(self, value, /)\n",
      " |      Return self<=value.\n",
      " |  \n",
      " |  __lshift__(self, value, /)\n",
      " |      Return self<<value.\n",
      " |  \n",
      " |  __lt__(self, value, /)\n",
      " |      Return self<value.\n",
      " |  \n",
      " |  __mod__(self, value, /)\n",
      " |      Return self%value.\n",
      " |  \n",
      " |  __mul__(self, value, /)\n",
      " |      Return self*value.\n",
      " |  \n",
      " |  __ne__(self, value, /)\n",
      " |      Return self!=value.\n",
      " |  \n",
      " |  __neg__(self, /)\n",
      " |      -self\n",
      " |  \n",
      " |  __or__(self, value, /)\n",
      " |      Return self|value.\n",
      " |  \n",
      " |  __pos__(self, /)\n",
      " |      +self\n",
      " |  \n",
      " |  __pow__(self, value, mod=None, /)\n",
      " |      Return pow(self, value, mod).\n",
      " |  \n",
      " |  __radd__(self, value, /)\n",
      " |      Return value+self.\n",
      " |  \n",
      " |  __rand__(self, value, /)\n",
      " |      Return value&self.\n",
      " |  \n",
      " |  __rdivmod__(self, value, /)\n",
      " |      Return divmod(value, self).\n",
      " |  \n",
      " |  __repr__(self, /)\n",
      " |      Return repr(self).\n",
      " |  \n",
      " |  __rfloordiv__(self, value, /)\n",
      " |      Return value//self.\n",
      " |  \n",
      " |  __rlshift__(self, value, /)\n",
      " |      Return value<<self.\n",
      " |  \n",
      " |  __rmod__(self, value, /)\n",
      " |      Return value%self.\n",
      " |  \n",
      " |  __rmul__(self, value, /)\n",
      " |      Return value*self.\n",
      " |  \n",
      " |  __ror__(self, value, /)\n",
      " |      Return value|self.\n",
      " |  \n",
      " |  __round__(...)\n",
      " |      Rounding an Integral returns itself.\n",
      " |      Rounding with an ndigits argument also returns an integer.\n",
      " |  \n",
      " |  __rpow__(self, value, mod=None, /)\n",
      " |      Return pow(value, self, mod).\n",
      " |  \n",
      " |  __rrshift__(self, value, /)\n",
      " |      Return value>>self.\n",
      " |  \n",
      " |  __rshift__(self, value, /)\n",
      " |      Return self>>value.\n",
      " |  \n",
      " |  __rsub__(self, value, /)\n",
      " |      Return value-self.\n",
      " |  \n",
      " |  __rtruediv__(self, value, /)\n",
      " |      Return value/self.\n",
      " |  \n",
      " |  __rxor__(self, value, /)\n",
      " |      Return value^self.\n",
      " |  \n",
      " |  __sizeof__(self, /)\n",
      " |      Returns size in memory, in bytes.\n",
      " |  \n",
      " |  __sub__(self, value, /)\n",
      " |      Return self-value.\n",
      " |  \n",
      " |  __truediv__(self, value, /)\n",
      " |      Return self/value.\n",
      " |  \n",
      " |  __trunc__(...)\n",
      " |      Truncating an Integral returns itself.\n",
      " |  \n",
      " |  __xor__(self, value, /)\n",
      " |      Return self^value.\n",
      " |  \n",
      " |  as_integer_ratio(self, /)\n",
      " |      Return integer ratio.\n",
      " |      \n",
      " |      Return a pair of integers, whose ratio is exactly equal to the original int\n",
      " |      and with a positive denominator.\n",
      " |      \n",
      " |      >>> (10).as_integer_ratio()\n",
      " |      (10, 1)\n",
      " |      >>> (-10).as_integer_ratio()\n",
      " |      (-10, 1)\n",
      " |      >>> (0).as_integer_ratio()\n",
      " |      (0, 1)\n",
      " |  \n",
      " |  bit_length(self, /)\n",
      " |      Number of bits necessary to represent self in binary.\n",
      " |      \n",
      " |      >>> bin(37)\n",
      " |      '0b100101'\n",
      " |      >>> (37).bit_length()\n",
      " |      6\n",
      " |  \n",
      " |  conjugate(...)\n",
      " |      Returns self, the complex conjugate of any int.\n",
      " |  \n",
      " |  to_bytes(self, /, length, byteorder, *, signed=False)\n",
      " |      Return an array of bytes representing an integer.\n",
      " |      \n",
      " |      length\n",
      " |        Length of bytes object to use.  An OverflowError is raised if the\n",
      " |        integer is not representable with the given number of bytes.\n",
      " |      byteorder\n",
      " |        The byte order used to represent the integer.  If byteorder is 'big',\n",
      " |        the most significant byte is at the beginning of the byte array.  If\n",
      " |        byteorder is 'little', the most significant byte is at the end of the\n",
      " |        byte array.  To request the native byte order of the host system, use\n",
      " |        `sys.byteorder' as the byte order value.\n",
      " |      signed\n",
      " |        Determines whether two's complement is used to represent the integer.\n",
      " |        If signed is False and a negative integer is given, an OverflowError\n",
      " |        is raised.\n",
      " |  \n",
      " |  ----------------------------------------------------------------------\n",
      " |  Class methods defined here:\n",
      " |  \n",
      " |  from_bytes(bytes, byteorder, *, signed=False) from builtins.type\n",
      " |      Return the integer represented by the given array of bytes.\n",
      " |      \n",
      " |      bytes\n",
      " |        Holds the array of bytes to convert.  The argument must either\n",
      " |        support the buffer protocol or be an iterable object producing bytes.\n",
      " |        Bytes and bytearray are examples of built-in objects that support the\n",
      " |        buffer protocol.\n",
      " |      byteorder\n",
      " |        The byte order used to represent the integer.  If byteorder is 'big',\n",
      " |        the most significant byte is at the beginning of the byte array.  If\n",
      " |        byteorder is 'little', the most significant byte is at the end of the\n",
      " |        byte array.  To request the native byte order of the host system, use\n",
      " |        `sys.byteorder' as the byte order value.\n",
      " |      signed\n",
      " |        Indicates whether two's complement is used to represent the integer.\n",
      " |  \n",
      " |  ----------------------------------------------------------------------\n",
      " |  Static methods defined here:\n",
      " |  \n",
      " |  __new__(*args, **kwargs) from builtins.type\n",
      " |      Create and return a new object.  See help(type) for accurate signature.\n",
      " |  \n",
      " |  ----------------------------------------------------------------------\n",
      " |  Data descriptors defined here:\n",
      " |  \n",
      " |  denominator\n",
      " |      the denominator of a rational number in lowest terms\n",
      " |  \n",
      " |  imag\n",
      " |      the imaginary part of a complex number\n",
      " |  \n",
      " |  numerator\n",
      " |      the numerator of a rational number in lowest terms\n",
      " |  \n",
      " |  real\n",
      " |      the real part of a complex number\n",
      "\n"
     ]
    }
   ],
   "source": [
    "ws1.__dir__()\n",
    "dir(ws1)"
   ]
  },
  {
   "cell_type": "markdown",
   "id": "b305b6ed",
   "metadata": {},
   "source": [
    "## Otwieranie i zamykanie z xlwings"
   ]
  },
  {
   "cell_type": "code",
   "execution_count": 256,
   "id": "3d8c918b",
   "metadata": {
    "ExecuteTime": {
     "end_time": "2023-04-09T18:06:58.051349Z",
     "start_time": "2023-04-09T18:06:55.848729Z"
    }
   },
   "outputs": [],
   "source": [
    "wb = xw.Book(xls_path /xls_file)\n",
    "# xwapp = xw.apps.active "
   ]
  },
  {
   "cell_type": "code",
   "execution_count": 199,
   "id": "2efee7ff",
   "metadata": {
    "ExecuteTime": {
     "end_time": "2023-04-09T17:10:09.920710Z",
     "start_time": "2023-04-09T17:10:09.574982Z"
    }
   },
   "outputs": [],
   "source": [
    "wb.save(xls_path /xls_file)\n",
    "wb.app.quit()\n"
   ]
  },
  {
   "cell_type": "markdown",
   "id": "1446fa0a",
   "metadata": {},
   "source": [
    "## old xlwings"
   ]
  },
  {
   "cell_type": "markdown",
   "id": "f13c2c85",
   "metadata": {},
   "source": [
    "### konwersja typów w excelu"
   ]
  },
  {
   "cell_type": "code",
   "execution_count": 69,
   "id": "90f167af",
   "metadata": {
    "ExecuteTime": {
     "end_time": "2023-04-08T18:47:46.404082Z",
     "start_time": "2023-04-08T18:47:44.616285Z"
    }
   },
   "outputs": [],
   "source": [
    "wb = xw.Book()\n",
    "\n",
    "# Write the dataframe to a worksheet\n",
    "ws = wb.sheets[0]\n",
    "#ws.range('A1').value = df\n",
    "ws.range('F1').options(pd.DataFrame, header=1, index=False, expand='table').value=df\n",
    "# Infer the data type of each column and format the corresponding columns in the Excel data table\n",
    "table_range = ws.range('F1').expand()\n",
    "for i, col in enumerate(df.columns):\n",
    "    if all(isinstance(val, int) for val in df[col] if not pd.isna(val)):\n",
    "        table_range.columns[i].number_format = '0'\n",
    "    elif all(isinstance(val, float) for val in df[col] if not pd.isna(val)):\n",
    "        table_range.columns[i].number_format = '0,00'\n",
    "#     elif all(isinstance(val, str) for val in df[col] if not pd.isna(val)):\n",
    "#         table_range.columns[i].number_format = '@'\n",
    "#     else:\n",
    "#         table_range.columns[i].number_format = '@'\n",
    "        #table_range.columns[i].number_format = 'General'"
   ]
  },
  {
   "cell_type": "code",
   "execution_count": null,
   "id": "60c285e6",
   "metadata": {},
   "outputs": [],
   "source": [
    "#KOLUMNA WYLICZENIOWA\n",
    "# Create a sample dataframe with two columns\n",
    "df = pd.DataFrame({'Value 1': [10, 20, 30],\n",
    "                   'Value 2': [5, 10, 15]})\n",
    "\n",
    "# Open a new Excel workbook\n",
    "wb = xw.Book()\n",
    "sheet = wb.sheets[0]\n",
    "\n",
    "# Convert the dataframe to an Excel table\n",
    "table = sheet.range('A1').options(pd.DataFrame, header=1, index=False, expand='table').value = df\n",
    "\n",
    "# Add a calculated column to the Excel table\n",
    "table.ListColumns.Add(SourceType=0, Formula='=[@[Value 1]] + [@[Value 2]]', Position=3, Name='Total')\n",
    "\n",
    "# Format the calculated column as a number\n",
    "sheet.range(table.ListColumns['Total'].DataBodyRange).number_format = '#,##0.00'"
   ]
  },
  {
   "cell_type": "code",
   "execution_count": 11,
   "id": "715f5c4c",
   "metadata": {
    "ExecuteTime": {
     "end_time": "2023-04-08T17:56:41.481556Z",
     "start_time": "2023-04-08T17:56:41.468620Z"
    }
   },
   "outputs": [],
   "source": [
    "from datetime import datetime"
   ]
  },
  {
   "cell_type": "code",
   "execution_count": 18,
   "id": "2452f95d",
   "metadata": {
    "ExecuteTime": {
     "end_time": "2023-04-08T17:59:35.055471Z",
     "start_time": "2023-04-08T17:59:35.039125Z"
    }
   },
   "outputs": [
    {
     "data": {
      "text/plain": [
       "WindowsPath('D:/04_edu/11_scoring/py_xls_2023.04.08_19.59.33.xlsx')"
      ]
     },
     "execution_count": 18,
     "metadata": {},
     "output_type": "execute_result"
    }
   ],
   "source": [
    "xls_full_path"
   ]
  },
  {
   "cell_type": "code",
   "execution_count": 19,
   "id": "807db535",
   "metadata": {
    "ExecuteTime": {
     "end_time": "2023-04-08T18:02:21.190911Z",
     "start_time": "2023-04-08T18:02:21.182530Z"
    }
   },
   "outputs": [
    {
     "data": {
      "text/plain": [
       "[]"
      ]
     },
     "execution_count": 19,
     "metadata": {},
     "output_type": "execute_result"
    }
   ],
   "source": [
    "#instancje excela otwarte\n",
    "xw.apps.keys()"
   ]
  },
  {
   "cell_type": "code",
   "execution_count": 56,
   "id": "06d7f59d",
   "metadata": {
    "ExecuteTime": {
     "end_time": "2023-01-29T21:05:49.697125Z",
     "start_time": "2023-01-29T21:05:47.496068Z"
    }
   },
   "outputs": [
    {
     "data": {
      "text/plain": [
       "Books([<Book [py_xls_learn_v01.xlsx]>])"
      ]
     },
     "execution_count": 56,
     "metadata": {},
     "output_type": "execute_result"
    }
   ],
   "source": [
    "#wb = xw.Book(xls_full_path)\n",
    "xls_app = xw.App(visible=True)\n",
    "wb = xls_app.books.open(xls_full_path)\n",
    "xls_app.books[0].close()  #zamykam zeszyt 1 (pusty excel)\n",
    "xls_app.books"
   ]
  },
  {
   "cell_type": "code",
   "execution_count": 15,
   "id": "29575c71",
   "metadata": {
    "ExecuteTime": {
     "end_time": "2023-01-29T20:03:00.857888Z",
     "start_time": "2023-01-29T20:03:00.826320Z"
    }
   },
   "outputs": [
    {
     "data": {
      "text/plain": [
       "Tables([<Table 'gb_tab1' in <Sheet [py_xls_learn_v01.xlsx]ark1>>, <Table 'gb_tab3' in <Sheet [py_xls_learn_v01.xlsx]ark1>>, <Table 'gb_NOWA' in <Sheet [py_xls_learn_v01.xlsx]ark1>>, ...])"
      ]
     },
     "execution_count": 15,
     "metadata": {},
     "output_type": "execute_result"
    }
   ],
   "source": [
    "wb.sheets.count\n",
    "wb.sheets[0].tables"
   ]
  },
  {
   "cell_type": "code",
   "execution_count": 57,
   "id": "d54c7e73",
   "metadata": {
    "ExecuteTime": {
     "end_time": "2023-01-29T21:06:12.568468Z",
     "start_time": "2023-01-29T21:06:12.470857Z"
    }
   },
   "outputs": [
    {
     "data": {
      "text/plain": [
       "Tables([<Table 'gb_tab1' in <Sheet [py_xls_learn_v01.xlsx]ark1>>, <Table 'gb_tab3' in <Sheet [py_xls_learn_v01.xlsx]ark1>>, <Table 'gb_NOWA' in <Sheet [py_xls_learn_v01.xlsx]ark1>>, ...])"
      ]
     },
     "execution_count": 57,
     "metadata": {},
     "output_type": "execute_result"
    }
   ],
   "source": [
    "ark = wb.sheets[0]\n",
    "ark['C23'].expand().clear() #czyści też tabelę\n",
    "ark['C23'].value = [['a', 'b'], [1, 2]]\n",
    "table = ark.tables.add(source=ark['C23'].expand(), name='gb_NOWA2')\n",
    "ark.tables\n",
    "#table"
   ]
  },
  {
   "cell_type": "code",
   "execution_count": 59,
   "id": "0644ba6b",
   "metadata": {
    "ExecuteTime": {
     "end_time": "2023-01-29T21:06:22.347255Z",
     "start_time": "2023-01-29T21:06:22.198768Z"
    }
   },
   "outputs": [],
   "source": [
    "df=result.loc[result.rok>2016,:]\n",
    "table_name='gb_Nowa_update'\n",
    "if table_name in [table.name for table in ark.tables]:\n",
    "    ark.tables[table_name].update(df, index=False)\n",
    "else:\n",
    "    ark.tables.add(source=ark['H30'], name=table_name).update(df, index=False)"
   ]
  },
  {
   "cell_type": "code",
   "execution_count": 53,
   "id": "5a62d792",
   "metadata": {
    "ExecuteTime": {
     "end_time": "2023-01-29T20:47:12.195054Z",
     "start_time": "2023-01-29T20:47:12.191035Z"
    }
   },
   "outputs": [],
   "source": [
    "# https://peltiertech.com/structured-referencing-excel-tables/\n",
    "# https://support.microsoft.com/pl-pl/office/u%C5%BCywanie-odwo%C5%82a%C5%84-strukturalnych-w-tabelach-programu-excel-f5ed2452-2337-4f71-bed3-c8ae6d2b276e"
   ]
  },
  {
   "cell_type": "code",
   "execution_count": 18,
   "id": "6990d4ee",
   "metadata": {
    "ExecuteTime": {
     "end_time": "2023-01-29T20:03:21.152039Z",
     "start_time": "2023-01-29T20:03:21.127375Z"
    }
   },
   "outputs": [
    {
     "data": {
      "text/plain": [
       "[7.0, 8.0, 9.0, 10.0, 11.0, 12.0]"
      ]
     },
     "execution_count": 18,
     "metadata": {},
     "output_type": "execute_result"
    }
   ],
   "source": [
    "xw.Range('gb_Nowa_update[okres2]').value"
   ]
  },
  {
   "cell_type": "code",
   "execution_count": 20,
   "id": "72da6fa8",
   "metadata": {
    "ExecuteTime": {
     "end_time": "2023-01-29T20:07:18.745670Z",
     "start_time": "2023-01-29T20:07:18.721931Z"
    }
   },
   "outputs": [
    {
     "data": {
      "text/plain": [
       "'okres2'"
      ]
     },
     "execution_count": 20,
     "metadata": {},
     "output_type": "execute_result"
    }
   ],
   "source": [
    "xw.Range('gb_Nowa_update[[#Nagłówki]; [okres2]]').value"
   ]
  },
  {
   "cell_type": "code",
   "execution_count": 26,
   "id": "7e3705ce",
   "metadata": {
    "ExecuteTime": {
     "end_time": "2023-01-29T20:08:30.096186Z",
     "start_time": "2023-01-29T20:08:30.069534Z"
    }
   },
   "outputs": [
    {
     "data": {
      "text/plain": [
       "'okres2'"
      ]
     },
     "execution_count": 26,
     "metadata": {},
     "output_type": "execute_result"
    }
   ],
   "source": [
    "ark.range('gb_Nowa_update[[#Nagłówki]; [okres2]]').value"
   ]
  },
  {
   "cell_type": "code",
   "execution_count": 38,
   "id": "74cf109f",
   "metadata": {
    "ExecuteTime": {
     "end_time": "2023-01-29T20:26:55.025417Z",
     "start_time": "2023-01-29T20:26:54.991425Z"
    }
   },
   "outputs": [
    {
     "data": {
      "text/plain": [
       "[[22.0, 1462.0],\n",
       " [25.0, 1322.0],\n",
       " [23.0, 1124.0],\n",
       " [26.0, 1738.0],\n",
       " [25.0, 1735.0],\n",
       " [31.0, 2200.0]]"
      ]
     },
     "execution_count": 38,
     "metadata": {},
     "output_type": "execute_result"
    }
   ],
   "source": [
    "ark.range('gb_Nowa_update[[#Nagłówki];[#Dane]; [cnt_orders]:[products_units]]').value\n",
    "ark.range('gb_Nowa_update[[#Dane]; [cnt_orders]:[products_units]]').value"
   ]
  },
  {
   "cell_type": "code",
   "execution_count": 52,
   "id": "32d4193f",
   "metadata": {
    "ExecuteTime": {
     "end_time": "2023-01-29T20:29:51.423897Z",
     "start_time": "2023-01-29T20:29:51.404746Z"
    }
   },
   "outputs": [
    {
     "data": {
      "text/plain": [
       "[22.0, 25.0, 23.0, 26.0, 25.0, 31.0]"
      ]
     },
     "execution_count": 52,
     "metadata": {},
     "output_type": "execute_result"
    }
   ],
   "source": [
    "ark.range('gb_Nowa_update[cnt_orders];gb_Nowa_update[cnt_orders]').value"
   ]
  },
  {
   "cell_type": "code",
   "execution_count": 12,
   "id": "fab8cc49",
   "metadata": {
    "ExecuteTime": {
     "end_time": "2023-01-29T18:37:31.469669Z",
     "start_time": "2023-01-29T18:37:31.401250Z"
    }
   },
   "outputs": [],
   "source": [
    "ark['C20'].value = [['a', 'b'], [1, 2], [3, 4], [5, 6]]"
   ]
  },
  {
   "cell_type": "code",
   "execution_count": 73,
   "id": "6f24319e",
   "metadata": {
    "ExecuteTime": {
     "end_time": "2023-01-29T21:19:16.933111Z",
     "start_time": "2023-01-29T21:19:16.925068Z"
    }
   },
   "outputs": [
    {
     "data": {
      "text/plain": [
       "14.25"
      ]
     },
     "execution_count": 73,
     "metadata": {},
     "output_type": "execute_result"
    }
   ],
   "source": [
    "ark['B2'].top"
   ]
  },
  {
   "cell_type": "code",
   "execution_count": 83,
   "id": "f0640e04",
   "metadata": {
    "ExecuteTime": {
     "end_time": "2023-01-29T21:22:46.133109Z",
     "start_time": "2023-01-29T21:22:46.116521Z"
    }
   },
   "outputs": [],
   "source": [
    "chart_top    = int(ark['N30'].top)  #kotwica\n",
    "chart_left   = int(ark['N30'].left) #kotwica\n",
    "chart_width  = int(ark['J1'].left)  #szerokość mierzona od A1\n",
    "chart_height = int(ark['A20'].top)  #wysokość mierzona od A1\n",
    "#list_length  = int(ws.range('D6').value)"
   ]
  },
  {
   "cell_type": "code",
   "execution_count": 89,
   "id": "e28d32b3",
   "metadata": {
    "ExecuteTime": {
     "end_time": "2023-01-29T21:33:18.798918Z",
     "start_time": "2023-01-29T21:33:18.582157Z"
    }
   },
   "outputs": [],
   "source": [
    "chart = ark.charts.add()\n",
    "chart.set_source_data(ark.range('gb_Nowa_update[cnt_orders]'))\n",
    "chart.chart_type = 'line'\n",
    "chart.top = chart_top\n",
    "chart.left = chart_left\n",
    "chart.width = chart_width\n",
    "chart.height = chart_height\n",
    "chart.name='gb_wykres'\n",
    "chart.api[1].SetElement(2)  # Place chart title at the top\n",
    "chart.api[1].ChartTitle.Text = 'Zamówenia'  # Change text of the chart title\n",
    "chart.api[1].SeriesCollection(1).XValues = '=gb_Nowa_update[[rok]:[okres2]]'"
   ]
  },
  {
   "cell_type": "code",
   "execution_count": 90,
   "id": "271d2c75",
   "metadata": {
    "ExecuteTime": {
     "end_time": "2023-01-29T21:33:22.073581Z",
     "start_time": "2023-01-29T21:33:22.035035Z"
    }
   },
   "outputs": [
    {
     "data": {
      "text/plain": [
       "Charts([<Chart 'Wykres 1' in <Sheet [py_xls_learn_v01.xlsx]ark1>>, <Chart 'gb_wykres' in <Sheet [py_xls_learn_v01.xlsx]ark1>>])"
      ]
     },
     "execution_count": 90,
     "metadata": {},
     "output_type": "execute_result"
    }
   ],
   "source": [
    "ark.charts"
   ]
  },
  {
   "cell_type": "code",
   "execution_count": 91,
   "id": "9e4ee6b8",
   "metadata": {
    "ExecuteTime": {
     "end_time": "2023-01-29T21:33:27.793528Z",
     "start_time": "2023-01-29T21:33:27.667398Z"
    }
   },
   "outputs": [],
   "source": [
    "wb.save()\n",
    "wb.close()\n",
    "xls_app.quit()"
   ]
  },
  {
   "cell_type": "code",
   "execution_count": 4,
   "id": "412e65c2",
   "metadata": {
    "ExecuteTime": {
     "end_time": "2023-01-27T19:18:09.765891Z",
     "start_time": "2023-01-27T19:18:09.733896Z"
    },
    "hide_input": false
   },
   "outputs": [
    {
     "data": {
      "text/html": [
       "<div>\n",
       "<style scoped>\n",
       "    .dataframe tbody tr th:only-of-type {\n",
       "        vertical-align: middle;\n",
       "    }\n",
       "\n",
       "    .dataframe tbody tr th {\n",
       "        vertical-align: top;\n",
       "    }\n",
       "\n",
       "    .dataframe thead th {\n",
       "        text-align: right;\n",
       "    }\n",
       "</style>\n",
       "<table border=\"1\" class=\"dataframe\">\n",
       "  <thead>\n",
       "    <tr style=\"text-align: right;\">\n",
       "      <th></th>\n",
       "      <th>kol1</th>\n",
       "    </tr>\n",
       "  </thead>\n",
       "  <tbody>\n",
       "    <tr>\n",
       "      <th>0</th>\n",
       "      <td>10</td>\n",
       "    </tr>\n",
       "    <tr>\n",
       "      <th>1</th>\n",
       "      <td>20</td>\n",
       "    </tr>\n",
       "    <tr>\n",
       "      <th>2</th>\n",
       "      <td>30</td>\n",
       "    </tr>\n",
       "    <tr>\n",
       "      <th>3</th>\n",
       "      <td>20</td>\n",
       "    </tr>\n",
       "    <tr>\n",
       "      <th>4</th>\n",
       "      <td>15</td>\n",
       "    </tr>\n",
       "    <tr>\n",
       "      <th>5</th>\n",
       "      <td>30</td>\n",
       "    </tr>\n",
       "    <tr>\n",
       "      <th>6</th>\n",
       "      <td>45</td>\n",
       "    </tr>\n",
       "  </tbody>\n",
       "</table>\n",
       "</div>"
      ],
      "text/plain": [
       "   kol1\n",
       "0    10\n",
       "1    20\n",
       "2    30\n",
       "3    20\n",
       "4    15\n",
       "5    30\n",
       "6    45"
      ]
     },
     "execution_count": 4,
     "metadata": {},
     "output_type": "execute_result"
    }
   ],
   "source": [
    "list_data = [10, 20, 30, 20, 15, 30, 45]\n",
    "df = pd.DataFrame(list_data,columns=['kol1'])\n",
    "df"
   ]
  },
  {
   "cell_type": "code",
   "execution_count": 83,
   "id": "2c12e503",
   "metadata": {
    "ExecuteTime": {
     "end_time": "2023-01-15T19:08:26.932068Z",
     "start_time": "2023-01-15T19:08:26.893069Z"
    }
   },
   "outputs": [
    {
     "data": {
      "text/plain": [
       "<win32com.gen_py.Microsoft Excel 12.0 Object Library.ListObjects instance at 0x2295217220528>"
      ]
     },
     "execution_count": 83,
     "metadata": {},
     "output_type": "execute_result"
    }
   ],
   "source": [
    "wb = xw.Book(xls_full_path)\n",
    "ws=wb.sheets['Test']\n",
    "ws['A2'].value\n",
    "xw.Range('Tabela_excela[ABC]').value #kolumna z table\n",
    "ws.tables.api"
   ]
  },
  {
   "cell_type": "code",
   "execution_count": 41,
   "id": "4aa6c661",
   "metadata": {
    "ExecuteTime": {
     "end_time": "2023-01-15T11:51:12.885466Z",
     "start_time": "2023-01-15T11:51:12.877421Z"
    }
   },
   "outputs": [
    {
     "data": {
      "text/plain": [
       "33"
      ]
     },
     "execution_count": 41,
     "metadata": {},
     "output_type": "execute_result"
    }
   ],
   "source": [
    "wb['Test'].title\n",
    "ws['A4'] = 4\n",
    "ws.cell(row=4, column=2, value=10)\n",
    "ws.cell(row=1, column=1).value=33\n",
    "ws['A1'].value\n"
   ]
  },
  {
   "cell_type": "markdown",
   "id": "6cd1cfc9",
   "metadata": {},
   "source": [
    "## old openxl"
   ]
  },
  {
   "cell_type": "code",
   "execution_count": 40,
   "id": "f06a083f",
   "metadata": {
    "ExecuteTime": {
     "end_time": "2023-01-15T17:46:16.544798Z",
     "start_time": "2023-01-15T17:46:16.479117Z"
    }
   },
   "outputs": [],
   "source": [
    "if os.path.isfile(xls_full_path):\n",
    "    wb = ox.load_workbook(xls_full_path)\n",
    "else: \n",
    "    wb = ox.Workbook()\n",
    "ws=wb.active\n",
    "ws.title='Test'\n",
    "ws['A1']='Moj pierwszy zapis'\n",
    "ws.append(['drugi wiersz']) #dodaje na końcu arkusza\n",
    "ws.append(['a','b','hlkhlk'])\n",
    "\n",
    "ws['F1']='ABC'\n",
    "tab = ox.worksheet.table.Table(displayName=\"Tabela_excela\", ref=\"F1:F2\")\n",
    "# Add a default style with striped rows and banded columns\n",
    "style = ox.worksheet.table.TableStyleInfo(name=\"TableStyleMedium9\", showFirstColumn=False,\n",
    "                       showLastColumn=False, showRowStripes=True, showColumnStripes=True)\n",
    "tab.tableStyleInfo = style\n",
    "ws.add_table(tab)\n",
    "\n",
    "wb.save(xls_full_path)\n",
    "wb.close()\n",
    "\n",
    "\n",
    "writer = pd.ExcelWriter(xls_full_path,mode='a', engine='openpyxl'\n",
    "                        #,if_sheet_exists=\"replace\"\n",
    "                        , if_sheet_exists=\"overlay\" #istotne przy pracy na istniejących plikach\n",
    "                       )\n",
    "df.to_excel(writer, sheet_name='Test2',header=True, index=False, index_label=None, startrow=5, startcol=4)\n",
    "df.to_excel(writer, sheet_name='Test2',header=True, index=False, index_label=None, startrow=7, startcol=5)\n",
    "df.to_excel(writer, sheet_name='Test2',header=True, index=False, index_label=None, startrow=7, startcol=6)\n",
    "df.to_excel(writer, sheet_name='Test2',header=True, index=False, index_label=None, startrow=7, startcol=7)\n",
    "df.to_excel(writer, sheet_name='Test' ,header=False, index=False, index_label=None, startrow=1, startcol=5)\n",
    "writer.close()\n",
    "\n",
    "wb = ox.load_workbook(xls_full_path)\n",
    "ws=wb['Test']\n",
    "ws.tables['Tabela_excela'].ref=\"F1:F8\"\n",
    "# ws.tables['MyTable'].ref = \"A1:E5\"\n",
    "# print(len(ws['F']))\n",
    "\n",
    "wb.save(xls_full_path)\n",
    "wb.close()\n"
   ]
  },
  {
   "cell_type": "code",
   "execution_count": 71,
   "id": "8d752cde",
   "metadata": {
    "ExecuteTime": {
     "end_time": "2023-01-15T19:00:56.972706Z",
     "start_time": "2023-01-15T19:00:56.949017Z"
    }
   },
   "outputs": [],
   "source": [
    "wb = ox.load_workbook(xls_full_path)\n",
    "ws=wb['Test']\n",
    "t={key : value for key, value in ws.tables.items()}\n",
    "\n",
    "wb.close()  "
   ]
  },
  {
   "cell_type": "code",
   "execution_count": 72,
   "id": "23daa43d",
   "metadata": {
    "ExecuteTime": {
     "end_time": "2023-01-15T19:00:59.786350Z",
     "start_time": "2023-01-15T19:00:59.772853Z"
    }
   },
   "outputs": [
    {
     "data": {
      "text/plain": [
       "{'Tabela_excela': 'F1:F8'}"
      ]
     },
     "execution_count": 72,
     "metadata": {},
     "output_type": "execute_result"
    }
   ],
   "source": [
    "t"
   ]
  },
  {
   "cell_type": "code",
   "execution_count": 5,
   "id": "b235dcbc",
   "metadata": {
    "ExecuteTime": {
     "end_time": "2023-01-27T19:18:18.029241Z",
     "start_time": "2023-01-27T19:18:18.011088Z"
    }
   },
   "outputs": [
    {
     "name": "stdout",
     "output_type": "stream",
     "text": [
      "gb_fx_data.ipynb\n",
      "gb_fx_data_vars.parquet.gzip\n",
      "gb_fx_data_vars.pckl\n",
      "gb_scr.ipynb\n",
      "gb_scr2.ipynb\n",
      "hash.ipynb\n",
      "ING_1_bucketing.ipynb\n",
      "ING_2_feature_selection.ipynb\n",
      "ING_3_skorecard_model.ipynb\n",
      "ING_benchmarks_simple.ipynb\n",
      "ING_benchmark_with_EBM.ipynb\n",
      "ING_using-bucketing-process.ipynb\n",
      "Midgard_schedules.ipynb\n",
      "MM_hyperparams.ipynb\n",
      "Od zera do MLa 4.ipynb\n",
      "py_excel.ipynb\n",
      "py_excel_tes88.xlsx\n",
      "py_excel_test10.xlsx\n",
      "py_excel_test9.xlsx\n",
      "rsx_new.ipynb\n",
      "Udemy PD Model COMPLETE- With Comments.ipynb\n",
      "Udemy Preparation - COMPLETE.ipynb\n",
      "Untitled.ipynb\n",
      "utils.py\n",
      "xxx_dataframe_plot.py\n",
      "xxx_fstrings.py\n",
      "_scorecard_pipe.ipynb\n",
      "_scorecard_pipe_xgb.ipynb\n",
      "__py_WIKI.ipynb\n"
     ]
    }
   ],
   "source": [
    "basepath = xls_path\n",
    "for entry in os.listdir(basepath):\n",
    "    if os.path.isfile(os.path.join(basepath, entry)):\n",
    "        print(entry)"
   ]
  }
 ],
 "metadata": {
  "hide_input": false,
  "kernelspec": {
   "display_name": "Python 3 (ipykernel)",
   "language": "python",
   "name": "python3"
  },
  "language_info": {
   "codemirror_mode": {
    "name": "ipython",
    "version": 3
   },
   "file_extension": ".py",
   "mimetype": "text/x-python",
   "name": "python",
   "nbconvert_exporter": "python",
   "pygments_lexer": "ipython3",
   "version": "3.9.4"
  },
  "toc": {
   "base_numbering": 1,
   "nav_menu": {},
   "number_sections": true,
   "sideBar": true,
   "skip_h1_title": false,
   "title_cell": "Table of Contents",
   "title_sidebar": "Contents",
   "toc_cell": false,
   "toc_position": {
    "height": "calc(100% - 180px)",
    "left": "10px",
    "top": "150px",
    "width": "409.6px"
   },
   "toc_section_display": true,
   "toc_window_display": true
  },
  "varInspector": {
   "cols": {
    "lenName": 16,
    "lenType": 16,
    "lenVar": 40
   },
   "kernels_config": {
    "python": {
     "delete_cmd_postfix": "",
     "delete_cmd_prefix": "del ",
     "library": "var_list.py",
     "varRefreshCmd": "print(var_dic_list())"
    },
    "r": {
     "delete_cmd_postfix": ") ",
     "delete_cmd_prefix": "rm(",
     "library": "var_list.r",
     "varRefreshCmd": "cat(var_dic_list()) "
    }
   },
   "types_to_exclude": [
    "module",
    "function",
    "builtin_function_or_method",
    "instance",
    "_Feature"
   ],
   "window_display": false
  }
 },
 "nbformat": 4,
 "nbformat_minor": 5
}
