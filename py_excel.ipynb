{
 "cells": [
  {
   "cell_type": "markdown",
   "id": "4725639c",
   "metadata": {},
   "source": [
    "## libs"
   ]
  },
  {
   "cell_type": "code",
   "execution_count": 1,
   "id": "41779621",
   "metadata": {
    "ExecuteTime": {
     "end_time": "2023-01-29T20:00:49.743964Z",
     "start_time": "2023-01-29T20:00:48.267721Z"
    }
   },
   "outputs": [],
   "source": [
    "# import openpyxl as ox\n",
    "# from openpyxl.worksheet.table import Table, TableStyleInfo\n",
    "import os\n",
    "import pandas as pd\n",
    "import numpy as np\n",
    "from pathlib import Path\n",
    "import xlwings as xw\n",
    "import sqlite3 as sql\n",
    "\n",
    "#from openpyxl import Workbook"
   ]
  },
  {
   "cell_type": "markdown",
   "id": "0331e683",
   "metadata": {},
   "source": [
    "## database - get data"
   ]
  },
  {
   "cell_type": "code",
   "execution_count": 3,
   "id": "cf5f106b",
   "metadata": {
    "ExecuteTime": {
     "end_time": "2023-01-29T20:00:53.794762Z",
     "start_time": "2023-01-29T20:00:53.786766Z"
    }
   },
   "outputs": [],
   "source": [
    "db_path=\"D:/04_edu/04. Data/SQL_sample_database/\"\n",
    "db_file=\"northwind.db\""
   ]
  },
  {
   "cell_type": "code",
   "execution_count": 4,
   "id": "fafd8987",
   "metadata": {
    "ExecuteTime": {
     "end_time": "2023-01-29T20:00:54.589699Z",
     "start_time": "2023-01-29T20:00:54.579662Z"
    }
   },
   "outputs": [
    {
     "data": {
      "text/plain": [
       "'D:/04_edu/04. Data/SQL_sample_database/northwind.db'"
      ]
     },
     "execution_count": 4,
     "metadata": {},
     "output_type": "execute_result"
    }
   ],
   "source": [
    "db_path+db_file"
   ]
  },
  {
   "cell_type": "code",
   "execution_count": 5,
   "id": "f38a9982",
   "metadata": {
    "ExecuteTime": {
     "end_time": "2023-01-29T20:00:55.215726Z",
     "start_time": "2023-01-29T20:00:55.198123Z"
    }
   },
   "outputs": [],
   "source": [
    "qry_1=\"\"\"select  \n",
    "strftime('%Y.%m', OrderDate) okres\n",
    ",count(*) cnt\n",
    "from   Orders\n",
    "group by 1\n",
    "order by 1\"\"\"\n",
    "\n",
    "qry_2=\"\"\"select  \n",
    "strftime('%Y.%m', OrderDate) okres\n",
    ",cast(strftime('%Y', OrderDate) as int) rok\n",
    ",cast(strftime('%m', OrderDate) as int) okres\n",
    ",count(*) cnt\n",
    "from   Orders\n",
    "group by 1,2,3\n",
    "order by 1\"\"\"\n",
    "\n",
    "qry_3=\"\"\"select  \n",
    "strftime('%Y.%m', OrderDate) okres\n",
    ",cast(strftime('%Y', OrderDate) as int) rok\n",
    ",cast(strftime('%m', OrderDate) as int) okres\n",
    ",count(distinct a.OrderID) cnt_orders\n",
    ",sum(Quantity) products_units\n",
    "from   Orders a\n",
    "join [Order Details] b\n",
    "on a.OrderID=b.OrderID\n",
    "group by 1,2,3\n",
    "order by 1\"\"\"\n",
    "\n",
    "\n",
    "##\n",
    "#weather.to_sql('df_name', conn,index=False, if_exists='replace')\n",
    "\n",
    "#https://github.com/chineseballer06/Statistical-Analysis-of-Northwind-Database/blob/master/student.ipynb"
   ]
  },
  {
   "cell_type": "code",
   "execution_count": 6,
   "id": "a644a51d",
   "metadata": {
    "ExecuteTime": {
     "end_time": "2023-01-29T20:00:56.709944Z",
     "start_time": "2023-01-29T20:00:56.678908Z"
    },
    "scrolled": false
   },
   "outputs": [
    {
     "data": {
      "text/html": [
       "<div>\n",
       "<style scoped>\n",
       "    .dataframe tbody tr th:only-of-type {\n",
       "        vertical-align: middle;\n",
       "    }\n",
       "\n",
       "    .dataframe tbody tr th {\n",
       "        vertical-align: top;\n",
       "    }\n",
       "\n",
       "    .dataframe thead th {\n",
       "        text-align: right;\n",
       "    }\n",
       "</style>\n",
       "<table border=\"1\" class=\"dataframe\">\n",
       "  <thead>\n",
       "    <tr style=\"text-align: right;\">\n",
       "      <th></th>\n",
       "      <th>okres</th>\n",
       "      <th>rok</th>\n",
       "      <th>okres</th>\n",
       "      <th>cnt_orders</th>\n",
       "      <th>products_units</th>\n",
       "    </tr>\n",
       "  </thead>\n",
       "  <tbody>\n",
       "    <tr>\n",
       "      <th>0</th>\n",
       "      <td>2016.07</td>\n",
       "      <td>2016</td>\n",
       "      <td>7</td>\n",
       "      <td>22</td>\n",
       "      <td>1462</td>\n",
       "    </tr>\n",
       "    <tr>\n",
       "      <th>1</th>\n",
       "      <td>2016.08</td>\n",
       "      <td>2016</td>\n",
       "      <td>8</td>\n",
       "      <td>25</td>\n",
       "      <td>1322</td>\n",
       "    </tr>\n",
       "    <tr>\n",
       "      <th>2</th>\n",
       "      <td>2016.09</td>\n",
       "      <td>2016</td>\n",
       "      <td>9</td>\n",
       "      <td>23</td>\n",
       "      <td>1124</td>\n",
       "    </tr>\n",
       "    <tr>\n",
       "      <th>3</th>\n",
       "      <td>2016.10</td>\n",
       "      <td>2016</td>\n",
       "      <td>10</td>\n",
       "      <td>26</td>\n",
       "      <td>1738</td>\n",
       "    </tr>\n",
       "    <tr>\n",
       "      <th>4</th>\n",
       "      <td>2016.11</td>\n",
       "      <td>2016</td>\n",
       "      <td>11</td>\n",
       "      <td>25</td>\n",
       "      <td>1735</td>\n",
       "    </tr>\n",
       "    <tr>\n",
       "      <th>5</th>\n",
       "      <td>2016.12</td>\n",
       "      <td>2016</td>\n",
       "      <td>12</td>\n",
       "      <td>31</td>\n",
       "      <td>2200</td>\n",
       "    </tr>\n",
       "    <tr>\n",
       "      <th>6</th>\n",
       "      <td>2017.01</td>\n",
       "      <td>2017</td>\n",
       "      <td>1</td>\n",
       "      <td>33</td>\n",
       "      <td>2401</td>\n",
       "    </tr>\n",
       "    <tr>\n",
       "      <th>7</th>\n",
       "      <td>2017.02</td>\n",
       "      <td>2017</td>\n",
       "      <td>2</td>\n",
       "      <td>29</td>\n",
       "      <td>2132</td>\n",
       "    </tr>\n",
       "    <tr>\n",
       "      <th>8</th>\n",
       "      <td>2017.03</td>\n",
       "      <td>2017</td>\n",
       "      <td>3</td>\n",
       "      <td>30</td>\n",
       "      <td>1770</td>\n",
       "    </tr>\n",
       "    <tr>\n",
       "      <th>9</th>\n",
       "      <td>2017.04</td>\n",
       "      <td>2017</td>\n",
       "      <td>4</td>\n",
       "      <td>31</td>\n",
       "      <td>1912</td>\n",
       "    </tr>\n",
       "    <tr>\n",
       "      <th>10</th>\n",
       "      <td>2017.05</td>\n",
       "      <td>2017</td>\n",
       "      <td>5</td>\n",
       "      <td>32</td>\n",
       "      <td>2164</td>\n",
       "    </tr>\n",
       "    <tr>\n",
       "      <th>11</th>\n",
       "      <td>2017.06</td>\n",
       "      <td>2017</td>\n",
       "      <td>6</td>\n",
       "      <td>30</td>\n",
       "      <td>1635</td>\n",
       "    </tr>\n",
       "    <tr>\n",
       "      <th>12</th>\n",
       "      <td>2017.07</td>\n",
       "      <td>2017</td>\n",
       "      <td>7</td>\n",
       "      <td>33</td>\n",
       "      <td>2054</td>\n",
       "    </tr>\n",
       "    <tr>\n",
       "      <th>13</th>\n",
       "      <td>2017.08</td>\n",
       "      <td>2017</td>\n",
       "      <td>8</td>\n",
       "      <td>33</td>\n",
       "      <td>1861</td>\n",
       "    </tr>\n",
       "    <tr>\n",
       "      <th>14</th>\n",
       "      <td>2017.09</td>\n",
       "      <td>2017</td>\n",
       "      <td>9</td>\n",
       "      <td>37</td>\n",
       "      <td>2343</td>\n",
       "    </tr>\n",
       "    <tr>\n",
       "      <th>15</th>\n",
       "      <td>2017.10</td>\n",
       "      <td>2017</td>\n",
       "      <td>10</td>\n",
       "      <td>38</td>\n",
       "      <td>2679</td>\n",
       "    </tr>\n",
       "    <tr>\n",
       "      <th>16</th>\n",
       "      <td>2017.11</td>\n",
       "      <td>2017</td>\n",
       "      <td>11</td>\n",
       "      <td>34</td>\n",
       "      <td>1856</td>\n",
       "    </tr>\n",
       "    <tr>\n",
       "      <th>17</th>\n",
       "      <td>2017.12</td>\n",
       "      <td>2017</td>\n",
       "      <td>12</td>\n",
       "      <td>48</td>\n",
       "      <td>2682</td>\n",
       "    </tr>\n",
       "    <tr>\n",
       "      <th>18</th>\n",
       "      <td>2018.01</td>\n",
       "      <td>2018</td>\n",
       "      <td>1</td>\n",
       "      <td>55</td>\n",
       "      <td>3466</td>\n",
       "    </tr>\n",
       "    <tr>\n",
       "      <th>19</th>\n",
       "      <td>2018.02</td>\n",
       "      <td>2018</td>\n",
       "      <td>2</td>\n",
       "      <td>54</td>\n",
       "      <td>3115</td>\n",
       "    </tr>\n",
       "    <tr>\n",
       "      <th>20</th>\n",
       "      <td>2018.03</td>\n",
       "      <td>2018</td>\n",
       "      <td>3</td>\n",
       "      <td>73</td>\n",
       "      <td>4065</td>\n",
       "    </tr>\n",
       "    <tr>\n",
       "      <th>21</th>\n",
       "      <td>2018.04</td>\n",
       "      <td>2018</td>\n",
       "      <td>4</td>\n",
       "      <td>74</td>\n",
       "      <td>4680</td>\n",
       "    </tr>\n",
       "    <tr>\n",
       "      <th>22</th>\n",
       "      <td>2018.05</td>\n",
       "      <td>2018</td>\n",
       "      <td>5</td>\n",
       "      <td>14</td>\n",
       "      <td>921</td>\n",
       "    </tr>\n",
       "  </tbody>\n",
       "</table>\n",
       "</div>"
      ],
      "text/plain": [
       "      okres   rok  okres  cnt_orders  products_units\n",
       "0   2016.07  2016      7          22            1462\n",
       "1   2016.08  2016      8          25            1322\n",
       "2   2016.09  2016      9          23            1124\n",
       "3   2016.10  2016     10          26            1738\n",
       "4   2016.11  2016     11          25            1735\n",
       "5   2016.12  2016     12          31            2200\n",
       "6   2017.01  2017      1          33            2401\n",
       "7   2017.02  2017      2          29            2132\n",
       "8   2017.03  2017      3          30            1770\n",
       "9   2017.04  2017      4          31            1912\n",
       "10  2017.05  2017      5          32            2164\n",
       "11  2017.06  2017      6          30            1635\n",
       "12  2017.07  2017      7          33            2054\n",
       "13  2017.08  2017      8          33            1861\n",
       "14  2017.09  2017      9          37            2343\n",
       "15  2017.10  2017     10          38            2679\n",
       "16  2017.11  2017     11          34            1856\n",
       "17  2017.12  2017     12          48            2682\n",
       "18  2018.01  2018      1          55            3466\n",
       "19  2018.02  2018      2          54            3115\n",
       "20  2018.03  2018      3          73            4065\n",
       "21  2018.04  2018      4          74            4680\n",
       "22  2018.05  2018      5          14             921"
      ]
     },
     "execution_count": 6,
     "metadata": {},
     "output_type": "execute_result"
    }
   ],
   "source": [
    "conn = sql.connect(db_path+db_file)\n",
    "result = pd.read_sql(qry_3, conn)\n",
    "conn.close()\n",
    "result"
   ]
  },
  {
   "cell_type": "markdown",
   "id": "aeb93a17",
   "metadata": {},
   "source": [
    "## Excel path"
   ]
  },
  {
   "cell_type": "code",
   "execution_count": 7,
   "id": "e9d1a3dd",
   "metadata": {
    "ExecuteTime": {
     "end_time": "2023-01-29T20:00:58.735109Z",
     "start_time": "2023-01-29T20:00:58.720018Z"
    }
   },
   "outputs": [],
   "source": [
    "#xls_path=Path(\"D:/04_edu/11_scoring/\")\n",
    "#xls_full_path=os.path.join(os.getcwd( ), xls_file)\n",
    "xls_path=Path(os.getcwd( ))\n",
    "xls_file=\"py_xls_learn_v01.xlsx\"\n",
    "#xls_full_path=xls_path+xls_file\n",
    "xls_full_path = xls_path / xls_file\n"
   ]
  },
  {
   "cell_type": "code",
   "execution_count": 8,
   "id": "2452f95d",
   "metadata": {
    "ExecuteTime": {
     "end_time": "2023-01-29T20:00:59.662335Z",
     "start_time": "2023-01-29T20:00:59.654292Z"
    }
   },
   "outputs": [
    {
     "data": {
      "text/plain": [
       "WindowsPath('D:/04_edu/11_scoring/py_xls_learn_v01.xlsx')"
      ]
     },
     "execution_count": 8,
     "metadata": {},
     "output_type": "execute_result"
    }
   ],
   "source": [
    "xls_full_path"
   ]
  },
  {
   "cell_type": "code",
   "execution_count": 55,
   "id": "807db535",
   "metadata": {
    "ExecuteTime": {
     "end_time": "2023-01-29T21:05:46.617647Z",
     "start_time": "2023-01-29T21:05:46.608256Z"
    }
   },
   "outputs": [
    {
     "data": {
      "text/plain": [
       "[]"
      ]
     },
     "execution_count": 55,
     "metadata": {},
     "output_type": "execute_result"
    }
   ],
   "source": [
    "#instancje excela otwarte\n",
    "xw.apps.keys()"
   ]
  },
  {
   "cell_type": "code",
   "execution_count": 56,
   "id": "06d7f59d",
   "metadata": {
    "ExecuteTime": {
     "end_time": "2023-01-29T21:05:49.697125Z",
     "start_time": "2023-01-29T21:05:47.496068Z"
    }
   },
   "outputs": [
    {
     "data": {
      "text/plain": [
       "Books([<Book [py_xls_learn_v01.xlsx]>])"
      ]
     },
     "execution_count": 56,
     "metadata": {},
     "output_type": "execute_result"
    }
   ],
   "source": [
    "#wb = xw.Book(xls_full_path)\n",
    "xls_app = xw.App(visible=True)\n",
    "wb = xls_app.books.open(xls_full_path)\n",
    "xls_app.books[0].close()  #zamykam zeszyt 1 (pusty excel)\n",
    "xls_app.books"
   ]
  },
  {
   "cell_type": "code",
   "execution_count": 15,
   "id": "29575c71",
   "metadata": {
    "ExecuteTime": {
     "end_time": "2023-01-29T20:03:00.857888Z",
     "start_time": "2023-01-29T20:03:00.826320Z"
    }
   },
   "outputs": [
    {
     "data": {
      "text/plain": [
       "Tables([<Table 'gb_tab1' in <Sheet [py_xls_learn_v01.xlsx]ark1>>, <Table 'gb_tab3' in <Sheet [py_xls_learn_v01.xlsx]ark1>>, <Table 'gb_NOWA' in <Sheet [py_xls_learn_v01.xlsx]ark1>>, ...])"
      ]
     },
     "execution_count": 15,
     "metadata": {},
     "output_type": "execute_result"
    }
   ],
   "source": [
    "wb.sheets.count\n",
    "wb.sheets[0].tables"
   ]
  },
  {
   "cell_type": "code",
   "execution_count": 57,
   "id": "d54c7e73",
   "metadata": {
    "ExecuteTime": {
     "end_time": "2023-01-29T21:06:12.568468Z",
     "start_time": "2023-01-29T21:06:12.470857Z"
    }
   },
   "outputs": [
    {
     "data": {
      "text/plain": [
       "Tables([<Table 'gb_tab1' in <Sheet [py_xls_learn_v01.xlsx]ark1>>, <Table 'gb_tab3' in <Sheet [py_xls_learn_v01.xlsx]ark1>>, <Table 'gb_NOWA' in <Sheet [py_xls_learn_v01.xlsx]ark1>>, ...])"
      ]
     },
     "execution_count": 57,
     "metadata": {},
     "output_type": "execute_result"
    }
   ],
   "source": [
    "ark = wb.sheets[0]\n",
    "ark['C23'].expand().clear() #czyści też tabelę\n",
    "ark['C23'].value = [['a', 'b'], [1, 2]]\n",
    "table = ark.tables.add(source=ark['C23'].expand(), name='gb_NOWA2')\n",
    "ark.tables\n",
    "#table"
   ]
  },
  {
   "cell_type": "code",
   "execution_count": 59,
   "id": "0644ba6b",
   "metadata": {
    "ExecuteTime": {
     "end_time": "2023-01-29T21:06:22.347255Z",
     "start_time": "2023-01-29T21:06:22.198768Z"
    }
   },
   "outputs": [],
   "source": [
    "df=result.loc[result.rok>2016,:]\n",
    "table_name='gb_Nowa_update'\n",
    "if table_name in [table.name for table in ark.tables]:\n",
    "    ark.tables[table_name].update(df, index=False)\n",
    "else:\n",
    "    ark.tables.add(source=ark['H30'], name=table_name).update(df, index=False)"
   ]
  },
  {
   "cell_type": "code",
   "execution_count": 53,
   "id": "5a62d792",
   "metadata": {
    "ExecuteTime": {
     "end_time": "2023-01-29T20:47:12.195054Z",
     "start_time": "2023-01-29T20:47:12.191035Z"
    }
   },
   "outputs": [],
   "source": [
    "# https://peltiertech.com/structured-referencing-excel-tables/\n",
    "# https://support.microsoft.com/pl-pl/office/u%C5%BCywanie-odwo%C5%82a%C5%84-strukturalnych-w-tabelach-programu-excel-f5ed2452-2337-4f71-bed3-c8ae6d2b276e"
   ]
  },
  {
   "cell_type": "code",
   "execution_count": 18,
   "id": "6990d4ee",
   "metadata": {
    "ExecuteTime": {
     "end_time": "2023-01-29T20:03:21.152039Z",
     "start_time": "2023-01-29T20:03:21.127375Z"
    }
   },
   "outputs": [
    {
     "data": {
      "text/plain": [
       "[7.0, 8.0, 9.0, 10.0, 11.0, 12.0]"
      ]
     },
     "execution_count": 18,
     "metadata": {},
     "output_type": "execute_result"
    }
   ],
   "source": [
    "xw.Range('gb_Nowa_update[okres2]').value"
   ]
  },
  {
   "cell_type": "code",
   "execution_count": 20,
   "id": "72da6fa8",
   "metadata": {
    "ExecuteTime": {
     "end_time": "2023-01-29T20:07:18.745670Z",
     "start_time": "2023-01-29T20:07:18.721931Z"
    }
   },
   "outputs": [
    {
     "data": {
      "text/plain": [
       "'okres2'"
      ]
     },
     "execution_count": 20,
     "metadata": {},
     "output_type": "execute_result"
    }
   ],
   "source": [
    "xw.Range('gb_Nowa_update[[#Nagłówki]; [okres2]]').value"
   ]
  },
  {
   "cell_type": "code",
   "execution_count": 26,
   "id": "7e3705ce",
   "metadata": {
    "ExecuteTime": {
     "end_time": "2023-01-29T20:08:30.096186Z",
     "start_time": "2023-01-29T20:08:30.069534Z"
    }
   },
   "outputs": [
    {
     "data": {
      "text/plain": [
       "'okres2'"
      ]
     },
     "execution_count": 26,
     "metadata": {},
     "output_type": "execute_result"
    }
   ],
   "source": [
    "ark.range('gb_Nowa_update[[#Nagłówki]; [okres2]]').value"
   ]
  },
  {
   "cell_type": "code",
   "execution_count": 38,
   "id": "74cf109f",
   "metadata": {
    "ExecuteTime": {
     "end_time": "2023-01-29T20:26:55.025417Z",
     "start_time": "2023-01-29T20:26:54.991425Z"
    }
   },
   "outputs": [
    {
     "data": {
      "text/plain": [
       "[[22.0, 1462.0],\n",
       " [25.0, 1322.0],\n",
       " [23.0, 1124.0],\n",
       " [26.0, 1738.0],\n",
       " [25.0, 1735.0],\n",
       " [31.0, 2200.0]]"
      ]
     },
     "execution_count": 38,
     "metadata": {},
     "output_type": "execute_result"
    }
   ],
   "source": [
    "ark.range('gb_Nowa_update[[#Nagłówki];[#Dane]; [cnt_orders]:[products_units]]').value\n",
    "ark.range('gb_Nowa_update[[#Dane]; [cnt_orders]:[products_units]]').value"
   ]
  },
  {
   "cell_type": "code",
   "execution_count": 52,
   "id": "32d4193f",
   "metadata": {
    "ExecuteTime": {
     "end_time": "2023-01-29T20:29:51.423897Z",
     "start_time": "2023-01-29T20:29:51.404746Z"
    }
   },
   "outputs": [
    {
     "data": {
      "text/plain": [
       "[22.0, 25.0, 23.0, 26.0, 25.0, 31.0]"
      ]
     },
     "execution_count": 52,
     "metadata": {},
     "output_type": "execute_result"
    }
   ],
   "source": [
    "ark.range('gb_Nowa_update[cnt_orders];gb_Nowa_update[cnt_orders]').value"
   ]
  },
  {
   "cell_type": "code",
   "execution_count": 12,
   "id": "fab8cc49",
   "metadata": {
    "ExecuteTime": {
     "end_time": "2023-01-29T18:37:31.469669Z",
     "start_time": "2023-01-29T18:37:31.401250Z"
    }
   },
   "outputs": [],
   "source": [
    "ark['C20'].value = [['a', 'b'], [1, 2], [3, 4], [5, 6]]"
   ]
  },
  {
   "cell_type": "code",
   "execution_count": 73,
   "id": "6f24319e",
   "metadata": {
    "ExecuteTime": {
     "end_time": "2023-01-29T21:19:16.933111Z",
     "start_time": "2023-01-29T21:19:16.925068Z"
    }
   },
   "outputs": [
    {
     "data": {
      "text/plain": [
       "14.25"
      ]
     },
     "execution_count": 73,
     "metadata": {},
     "output_type": "execute_result"
    }
   ],
   "source": [
    "ark['B2'].top"
   ]
  },
  {
   "cell_type": "code",
   "execution_count": 83,
   "id": "f0640e04",
   "metadata": {
    "ExecuteTime": {
     "end_time": "2023-01-29T21:22:46.133109Z",
     "start_time": "2023-01-29T21:22:46.116521Z"
    }
   },
   "outputs": [],
   "source": [
    "chart_top    = int(ark['N30'].top)  #kotwica\n",
    "chart_left   = int(ark['N30'].left) #kotwica\n",
    "chart_width  = int(ark['J1'].left)  #szerokość mierzona od A1\n",
    "chart_height = int(ark['A20'].top)  #wysokość mierzona od A1\n",
    "#list_length  = int(ws.range('D6').value)"
   ]
  },
  {
   "cell_type": "code",
   "execution_count": 89,
   "id": "e28d32b3",
   "metadata": {
    "ExecuteTime": {
     "end_time": "2023-01-29T21:33:18.798918Z",
     "start_time": "2023-01-29T21:33:18.582157Z"
    }
   },
   "outputs": [],
   "source": [
    "chart = ark.charts.add()\n",
    "chart.set_source_data(ark.range('gb_Nowa_update[cnt_orders]'))\n",
    "chart.chart_type = 'line'\n",
    "chart.top = chart_top\n",
    "chart.left = chart_left\n",
    "chart.width = chart_width\n",
    "chart.height = chart_height\n",
    "chart.name='gb_wykres'\n",
    "chart.api[1].SetElement(2)  # Place chart title at the top\n",
    "chart.api[1].ChartTitle.Text = 'Zamówenia'  # Change text of the chart title\n",
    "chart.api[1].SeriesCollection(1).XValues = '=gb_Nowa_update[[rok]:[okres2]]'"
   ]
  },
  {
   "cell_type": "code",
   "execution_count": 90,
   "id": "271d2c75",
   "metadata": {
    "ExecuteTime": {
     "end_time": "2023-01-29T21:33:22.073581Z",
     "start_time": "2023-01-29T21:33:22.035035Z"
    }
   },
   "outputs": [
    {
     "data": {
      "text/plain": [
       "Charts([<Chart 'Wykres 1' in <Sheet [py_xls_learn_v01.xlsx]ark1>>, <Chart 'gb_wykres' in <Sheet [py_xls_learn_v01.xlsx]ark1>>])"
      ]
     },
     "execution_count": 90,
     "metadata": {},
     "output_type": "execute_result"
    }
   ],
   "source": [
    "ark.charts"
   ]
  },
  {
   "cell_type": "code",
   "execution_count": 91,
   "id": "9e4ee6b8",
   "metadata": {
    "ExecuteTime": {
     "end_time": "2023-01-29T21:33:27.793528Z",
     "start_time": "2023-01-29T21:33:27.667398Z"
    }
   },
   "outputs": [],
   "source": [
    "wb.save()\n",
    "wb.close()\n",
    "xls_app.quit()"
   ]
  },
  {
   "cell_type": "code",
   "execution_count": 4,
   "id": "412e65c2",
   "metadata": {
    "ExecuteTime": {
     "end_time": "2023-01-27T19:18:09.765891Z",
     "start_time": "2023-01-27T19:18:09.733896Z"
    },
    "hide_input": false
   },
   "outputs": [
    {
     "data": {
      "text/html": [
       "<div>\n",
       "<style scoped>\n",
       "    .dataframe tbody tr th:only-of-type {\n",
       "        vertical-align: middle;\n",
       "    }\n",
       "\n",
       "    .dataframe tbody tr th {\n",
       "        vertical-align: top;\n",
       "    }\n",
       "\n",
       "    .dataframe thead th {\n",
       "        text-align: right;\n",
       "    }\n",
       "</style>\n",
       "<table border=\"1\" class=\"dataframe\">\n",
       "  <thead>\n",
       "    <tr style=\"text-align: right;\">\n",
       "      <th></th>\n",
       "      <th>kol1</th>\n",
       "    </tr>\n",
       "  </thead>\n",
       "  <tbody>\n",
       "    <tr>\n",
       "      <th>0</th>\n",
       "      <td>10</td>\n",
       "    </tr>\n",
       "    <tr>\n",
       "      <th>1</th>\n",
       "      <td>20</td>\n",
       "    </tr>\n",
       "    <tr>\n",
       "      <th>2</th>\n",
       "      <td>30</td>\n",
       "    </tr>\n",
       "    <tr>\n",
       "      <th>3</th>\n",
       "      <td>20</td>\n",
       "    </tr>\n",
       "    <tr>\n",
       "      <th>4</th>\n",
       "      <td>15</td>\n",
       "    </tr>\n",
       "    <tr>\n",
       "      <th>5</th>\n",
       "      <td>30</td>\n",
       "    </tr>\n",
       "    <tr>\n",
       "      <th>6</th>\n",
       "      <td>45</td>\n",
       "    </tr>\n",
       "  </tbody>\n",
       "</table>\n",
       "</div>"
      ],
      "text/plain": [
       "   kol1\n",
       "0    10\n",
       "1    20\n",
       "2    30\n",
       "3    20\n",
       "4    15\n",
       "5    30\n",
       "6    45"
      ]
     },
     "execution_count": 4,
     "metadata": {},
     "output_type": "execute_result"
    }
   ],
   "source": [
    "list_data = [10, 20, 30, 20, 15, 30, 45]\n",
    "df = pd.DataFrame(list_data,columns=['kol1'])\n",
    "df"
   ]
  },
  {
   "cell_type": "code",
   "execution_count": 83,
   "id": "2c12e503",
   "metadata": {
    "ExecuteTime": {
     "end_time": "2023-01-15T19:08:26.932068Z",
     "start_time": "2023-01-15T19:08:26.893069Z"
    }
   },
   "outputs": [
    {
     "data": {
      "text/plain": [
       "<win32com.gen_py.Microsoft Excel 12.0 Object Library.ListObjects instance at 0x2295217220528>"
      ]
     },
     "execution_count": 83,
     "metadata": {},
     "output_type": "execute_result"
    }
   ],
   "source": [
    "wb = xw.Book(xls_full_path)\n",
    "ws=wb.sheets['Test']\n",
    "ws['A2'].value\n",
    "xw.Range('Tabela_excela[ABC]').value #kolumna z table\n",
    "ws.tables.api"
   ]
  },
  {
   "cell_type": "code",
   "execution_count": 41,
   "id": "4aa6c661",
   "metadata": {
    "ExecuteTime": {
     "end_time": "2023-01-15T11:51:12.885466Z",
     "start_time": "2023-01-15T11:51:12.877421Z"
    }
   },
   "outputs": [
    {
     "data": {
      "text/plain": [
       "33"
      ]
     },
     "execution_count": 41,
     "metadata": {},
     "output_type": "execute_result"
    }
   ],
   "source": [
    "wb['Test'].title\n",
    "ws['A4'] = 4\n",
    "ws.cell(row=4, column=2, value=10)\n",
    "ws.cell(row=1, column=1).value=33\n",
    "ws['A1'].value\n"
   ]
  },
  {
   "cell_type": "markdown",
   "id": "6cd1cfc9",
   "metadata": {},
   "source": [
    "## old openxl"
   ]
  },
  {
   "cell_type": "code",
   "execution_count": 40,
   "id": "f06a083f",
   "metadata": {
    "ExecuteTime": {
     "end_time": "2023-01-15T17:46:16.544798Z",
     "start_time": "2023-01-15T17:46:16.479117Z"
    }
   },
   "outputs": [],
   "source": [
    "if os.path.isfile(xls_full_path):\n",
    "    wb = ox.load_workbook(xls_full_path)\n",
    "else: \n",
    "    wb = ox.Workbook()\n",
    "ws=wb.active\n",
    "ws.title='Test'\n",
    "ws['A1']='Moj pierwszy zapis'\n",
    "ws.append(['drugi wiersz']) #dodaje na końcu arkusza\n",
    "ws.append(['a','b','hlkhlk'])\n",
    "\n",
    "ws['F1']='ABC'\n",
    "tab = ox.worksheet.table.Table(displayName=\"Tabela_excela\", ref=\"F1:F2\")\n",
    "# Add a default style with striped rows and banded columns\n",
    "style = ox.worksheet.table.TableStyleInfo(name=\"TableStyleMedium9\", showFirstColumn=False,\n",
    "                       showLastColumn=False, showRowStripes=True, showColumnStripes=True)\n",
    "tab.tableStyleInfo = style\n",
    "ws.add_table(tab)\n",
    "\n",
    "wb.save(xls_full_path)\n",
    "wb.close()\n",
    "\n",
    "\n",
    "writer = pd.ExcelWriter(xls_full_path,mode='a', engine='openpyxl'\n",
    "                        #,if_sheet_exists=\"replace\"\n",
    "                        , if_sheet_exists=\"overlay\" #istotne przy pracy na istniejących plikach\n",
    "                       )\n",
    "df.to_excel(writer, sheet_name='Test2',header=True, index=False, index_label=None, startrow=5, startcol=4)\n",
    "df.to_excel(writer, sheet_name='Test2',header=True, index=False, index_label=None, startrow=7, startcol=5)\n",
    "df.to_excel(writer, sheet_name='Test2',header=True, index=False, index_label=None, startrow=7, startcol=6)\n",
    "df.to_excel(writer, sheet_name='Test2',header=True, index=False, index_label=None, startrow=7, startcol=7)\n",
    "df.to_excel(writer, sheet_name='Test' ,header=False, index=False, index_label=None, startrow=1, startcol=5)\n",
    "writer.close()\n",
    "\n",
    "wb = ox.load_workbook(xls_full_path)\n",
    "ws=wb['Test']\n",
    "ws.tables['Tabela_excela'].ref=\"F1:F8\"\n",
    "# ws.tables['MyTable'].ref = \"A1:E5\"\n",
    "# print(len(ws['F']))\n",
    "\n",
    "wb.save(xls_full_path)\n",
    "wb.close()\n"
   ]
  },
  {
   "cell_type": "code",
   "execution_count": 71,
   "id": "8d752cde",
   "metadata": {
    "ExecuteTime": {
     "end_time": "2023-01-15T19:00:56.972706Z",
     "start_time": "2023-01-15T19:00:56.949017Z"
    }
   },
   "outputs": [],
   "source": [
    "wb = ox.load_workbook(xls_full_path)\n",
    "ws=wb['Test']\n",
    "t={key : value for key, value in ws.tables.items()}\n",
    "\n",
    "wb.close()  "
   ]
  },
  {
   "cell_type": "code",
   "execution_count": 72,
   "id": "23daa43d",
   "metadata": {
    "ExecuteTime": {
     "end_time": "2023-01-15T19:00:59.786350Z",
     "start_time": "2023-01-15T19:00:59.772853Z"
    }
   },
   "outputs": [
    {
     "data": {
      "text/plain": [
       "{'Tabela_excela': 'F1:F8'}"
      ]
     },
     "execution_count": 72,
     "metadata": {},
     "output_type": "execute_result"
    }
   ],
   "source": [
    "t"
   ]
  },
  {
   "cell_type": "code",
   "execution_count": 5,
   "id": "b235dcbc",
   "metadata": {
    "ExecuteTime": {
     "end_time": "2023-01-27T19:18:18.029241Z",
     "start_time": "2023-01-27T19:18:18.011088Z"
    }
   },
   "outputs": [
    {
     "name": "stdout",
     "output_type": "stream",
     "text": [
      "gb_fx_data.ipynb\n",
      "gb_fx_data_vars.parquet.gzip\n",
      "gb_fx_data_vars.pckl\n",
      "gb_scr.ipynb\n",
      "gb_scr2.ipynb\n",
      "hash.ipynb\n",
      "ING_1_bucketing.ipynb\n",
      "ING_2_feature_selection.ipynb\n",
      "ING_3_skorecard_model.ipynb\n",
      "ING_benchmarks_simple.ipynb\n",
      "ING_benchmark_with_EBM.ipynb\n",
      "ING_using-bucketing-process.ipynb\n",
      "Midgard_schedules.ipynb\n",
      "MM_hyperparams.ipynb\n",
      "Od zera do MLa 4.ipynb\n",
      "py_excel.ipynb\n",
      "py_excel_tes88.xlsx\n",
      "py_excel_test10.xlsx\n",
      "py_excel_test9.xlsx\n",
      "rsx_new.ipynb\n",
      "Udemy PD Model COMPLETE- With Comments.ipynb\n",
      "Udemy Preparation - COMPLETE.ipynb\n",
      "Untitled.ipynb\n",
      "utils.py\n",
      "xxx_dataframe_plot.py\n",
      "xxx_fstrings.py\n",
      "_scorecard_pipe.ipynb\n",
      "_scorecard_pipe_xgb.ipynb\n",
      "__py_WIKI.ipynb\n"
     ]
    }
   ],
   "source": [
    "basepath = xls_path\n",
    "for entry in os.listdir(basepath):\n",
    "    if os.path.isfile(os.path.join(basepath, entry)):\n",
    "        print(entry)"
   ]
  }
 ],
 "metadata": {
  "hide_input": false,
  "kernelspec": {
   "display_name": "Python 3 (ipykernel)",
   "language": "python",
   "name": "python3"
  },
  "language_info": {
   "codemirror_mode": {
    "name": "ipython",
    "version": 3
   },
   "file_extension": ".py",
   "mimetype": "text/x-python",
   "name": "python",
   "nbconvert_exporter": "python",
   "pygments_lexer": "ipython3",
   "version": "3.9.4"
  },
  "toc": {
   "base_numbering": 1,
   "nav_menu": {},
   "number_sections": true,
   "sideBar": false,
   "skip_h1_title": false,
   "title_cell": "Table of Contents",
   "title_sidebar": "Contents",
   "toc_cell": false,
   "toc_position": {},
   "toc_section_display": true,
   "toc_window_display": true
  },
  "varInspector": {
   "cols": {
    "lenName": 16,
    "lenType": 16,
    "lenVar": 40
   },
   "kernels_config": {
    "python": {
     "delete_cmd_postfix": "",
     "delete_cmd_prefix": "del ",
     "library": "var_list.py",
     "varRefreshCmd": "print(var_dic_list())"
    },
    "r": {
     "delete_cmd_postfix": ") ",
     "delete_cmd_prefix": "rm(",
     "library": "var_list.r",
     "varRefreshCmd": "cat(var_dic_list()) "
    }
   },
   "types_to_exclude": [
    "module",
    "function",
    "builtin_function_or_method",
    "instance",
    "_Feature"
   ],
   "window_display": false
  }
 },
 "nbformat": 4,
 "nbformat_minor": 5
}
